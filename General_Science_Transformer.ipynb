{
  "nbformat": 4,
  "nbformat_minor": 0,
  "metadata": {
    "colab": {
      "name": "General Science Transformer.ipynb",
      "provenance": [],
      "collapsed_sections": [],
      "toc_visible": true,
      "include_colab_link": true
    },
    "kernelspec": {
      "display_name": "Python 3",
      "name": "python3"
    },
    "accelerator": "TPU",
    "widgets": {
      "application/vnd.jupyter.widget-state+json": {
        "9edf5e6a10c344b3b9906c48dc59ede8": {
          "model_module": "@jupyter-widgets/controls",
          "model_name": "HBoxModel",
          "state": {
            "_view_name": "HBoxView",
            "_dom_classes": [],
            "_model_name": "HBoxModel",
            "_view_module": "@jupyter-widgets/controls",
            "_model_module_version": "1.5.0",
            "_view_count": null,
            "_view_module_version": "1.5.0",
            "box_style": "",
            "layout": "IPY_MODEL_afc7fca89d1d4b608095233fa729aa37",
            "_model_module": "@jupyter-widgets/controls",
            "children": [
              "IPY_MODEL_195b5150ea5d473c82c15044b39f20e6",
              "IPY_MODEL_b6c0dcf1d8a24c38ae896553a58a7d9f"
            ]
          }
        },
        "afc7fca89d1d4b608095233fa729aa37": {
          "model_module": "@jupyter-widgets/base",
          "model_name": "LayoutModel",
          "state": {
            "_view_name": "LayoutView",
            "grid_template_rows": null,
            "right": null,
            "justify_content": null,
            "_view_module": "@jupyter-widgets/base",
            "overflow": null,
            "_model_module_version": "1.2.0",
            "_view_count": null,
            "flex_flow": null,
            "width": null,
            "min_width": null,
            "border": null,
            "align_items": null,
            "bottom": null,
            "_model_module": "@jupyter-widgets/base",
            "top": null,
            "grid_column": null,
            "overflow_y": null,
            "overflow_x": null,
            "grid_auto_flow": null,
            "grid_area": null,
            "grid_template_columns": null,
            "flex": null,
            "_model_name": "LayoutModel",
            "justify_items": null,
            "grid_row": null,
            "max_height": null,
            "align_content": null,
            "visibility": null,
            "align_self": null,
            "height": null,
            "min_height": null,
            "padding": null,
            "grid_auto_rows": null,
            "grid_gap": null,
            "max_width": null,
            "order": null,
            "_view_module_version": "1.2.0",
            "grid_template_areas": null,
            "object_position": null,
            "object_fit": null,
            "grid_auto_columns": null,
            "margin": null,
            "display": null,
            "left": null
          }
        },
        "195b5150ea5d473c82c15044b39f20e6": {
          "model_module": "@jupyter-widgets/controls",
          "model_name": "FloatProgressModel",
          "state": {
            "_view_name": "ProgressView",
            "style": "IPY_MODEL_af70ebe247e74160a9dcce7d5b276c59",
            "_dom_classes": [],
            "description": "100%",
            "_model_name": "FloatProgressModel",
            "bar_style": "success",
            "max": 200,
            "_view_module": "@jupyter-widgets/controls",
            "_model_module_version": "1.5.0",
            "value": 200,
            "_view_count": null,
            "_view_module_version": "1.5.0",
            "orientation": "horizontal",
            "min": 0,
            "description_tooltip": null,
            "_model_module": "@jupyter-widgets/controls",
            "layout": "IPY_MODEL_b326b64fc150444482500e8d8e7b43e2"
          }
        },
        "b6c0dcf1d8a24c38ae896553a58a7d9f": {
          "model_module": "@jupyter-widgets/controls",
          "model_name": "HTMLModel",
          "state": {
            "_view_name": "HTMLView",
            "style": "IPY_MODEL_e81b6ac1d12e4c4fbcc37ed47df0880e",
            "_dom_classes": [],
            "description": "",
            "_model_name": "HTMLModel",
            "placeholder": "​",
            "_view_module": "@jupyter-widgets/controls",
            "_model_module_version": "1.5.0",
            "value": " 200/200 [05:33&lt;00:00,  1.67s/epoch, loss=0.000297, val_loss=0.00106]",
            "_view_count": null,
            "_view_module_version": "1.5.0",
            "description_tooltip": null,
            "_model_module": "@jupyter-widgets/controls",
            "layout": "IPY_MODEL_b0d8251d8f714823b2246a99d2787444"
          }
        },
        "af70ebe247e74160a9dcce7d5b276c59": {
          "model_module": "@jupyter-widgets/controls",
          "model_name": "ProgressStyleModel",
          "state": {
            "_view_name": "StyleView",
            "_model_name": "ProgressStyleModel",
            "description_width": "initial",
            "_view_module": "@jupyter-widgets/base",
            "_model_module_version": "1.5.0",
            "_view_count": null,
            "_view_module_version": "1.2.0",
            "bar_color": null,
            "_model_module": "@jupyter-widgets/controls"
          }
        },
        "b326b64fc150444482500e8d8e7b43e2": {
          "model_module": "@jupyter-widgets/base",
          "model_name": "LayoutModel",
          "state": {
            "_view_name": "LayoutView",
            "grid_template_rows": null,
            "right": null,
            "justify_content": null,
            "_view_module": "@jupyter-widgets/base",
            "overflow": null,
            "_model_module_version": "1.2.0",
            "_view_count": null,
            "flex_flow": null,
            "width": null,
            "min_width": null,
            "border": null,
            "align_items": null,
            "bottom": null,
            "_model_module": "@jupyter-widgets/base",
            "top": null,
            "grid_column": null,
            "overflow_y": null,
            "overflow_x": null,
            "grid_auto_flow": null,
            "grid_area": null,
            "grid_template_columns": null,
            "flex": null,
            "_model_name": "LayoutModel",
            "justify_items": null,
            "grid_row": null,
            "max_height": null,
            "align_content": null,
            "visibility": null,
            "align_self": null,
            "height": null,
            "min_height": null,
            "padding": null,
            "grid_auto_rows": null,
            "grid_gap": null,
            "max_width": null,
            "order": null,
            "_view_module_version": "1.2.0",
            "grid_template_areas": null,
            "object_position": null,
            "object_fit": null,
            "grid_auto_columns": null,
            "margin": null,
            "display": null,
            "left": null
          }
        },
        "e81b6ac1d12e4c4fbcc37ed47df0880e": {
          "model_module": "@jupyter-widgets/controls",
          "model_name": "DescriptionStyleModel",
          "state": {
            "_view_name": "StyleView",
            "_model_name": "DescriptionStyleModel",
            "description_width": "",
            "_view_module": "@jupyter-widgets/base",
            "_model_module_version": "1.5.0",
            "_view_count": null,
            "_view_module_version": "1.2.0",
            "_model_module": "@jupyter-widgets/controls"
          }
        },
        "b0d8251d8f714823b2246a99d2787444": {
          "model_module": "@jupyter-widgets/base",
          "model_name": "LayoutModel",
          "state": {
            "_view_name": "LayoutView",
            "grid_template_rows": null,
            "right": null,
            "justify_content": null,
            "_view_module": "@jupyter-widgets/base",
            "overflow": null,
            "_model_module_version": "1.2.0",
            "_view_count": null,
            "flex_flow": null,
            "width": null,
            "min_width": null,
            "border": null,
            "align_items": null,
            "bottom": null,
            "_model_module": "@jupyter-widgets/base",
            "top": null,
            "grid_column": null,
            "overflow_y": null,
            "overflow_x": null,
            "grid_auto_flow": null,
            "grid_area": null,
            "grid_template_columns": null,
            "flex": null,
            "_model_name": "LayoutModel",
            "justify_items": null,
            "grid_row": null,
            "max_height": null,
            "align_content": null,
            "visibility": null,
            "align_self": null,
            "height": null,
            "min_height": null,
            "padding": null,
            "grid_auto_rows": null,
            "grid_gap": null,
            "max_width": null,
            "order": null,
            "_view_module_version": "1.2.0",
            "grid_template_areas": null,
            "object_position": null,
            "object_fit": null,
            "grid_auto_columns": null,
            "margin": null,
            "display": null,
            "left": null
          }
        },
        "531d198d0895483192e7b9867a5ca6fe": {
          "model_module": "@jupyter-widgets/controls",
          "model_name": "HBoxModel",
          "state": {
            "_view_name": "HBoxView",
            "_dom_classes": [],
            "_model_name": "HBoxModel",
            "_view_module": "@jupyter-widgets/controls",
            "_model_module_version": "1.5.0",
            "_view_count": null,
            "_view_module_version": "1.5.0",
            "box_style": "",
            "layout": "IPY_MODEL_ff2ebe43fb534362893ad45d6b469692",
            "_model_module": "@jupyter-widgets/controls",
            "children": [
              "IPY_MODEL_130ecfb87b344d479c7fe478196a359a",
              "IPY_MODEL_9bd8d74c03454e28a5e996a9708b1313"
            ]
          }
        },
        "ff2ebe43fb534362893ad45d6b469692": {
          "model_module": "@jupyter-widgets/base",
          "model_name": "LayoutModel",
          "state": {
            "_view_name": "LayoutView",
            "grid_template_rows": null,
            "right": null,
            "justify_content": null,
            "_view_module": "@jupyter-widgets/base",
            "overflow": null,
            "_model_module_version": "1.2.0",
            "_view_count": null,
            "flex_flow": null,
            "width": null,
            "min_width": null,
            "border": null,
            "align_items": null,
            "bottom": null,
            "_model_module": "@jupyter-widgets/base",
            "top": null,
            "grid_column": null,
            "overflow_y": null,
            "overflow_x": null,
            "grid_auto_flow": null,
            "grid_area": null,
            "grid_template_columns": null,
            "flex": null,
            "_model_name": "LayoutModel",
            "justify_items": null,
            "grid_row": null,
            "max_height": null,
            "align_content": null,
            "visibility": null,
            "align_self": null,
            "height": null,
            "min_height": null,
            "padding": null,
            "grid_auto_rows": null,
            "grid_gap": null,
            "max_width": null,
            "order": null,
            "_view_module_version": "1.2.0",
            "grid_template_areas": null,
            "object_position": null,
            "object_fit": null,
            "grid_auto_columns": null,
            "margin": null,
            "display": null,
            "left": null
          }
        },
        "130ecfb87b344d479c7fe478196a359a": {
          "model_module": "@jupyter-widgets/controls",
          "model_name": "FloatProgressModel",
          "state": {
            "_view_name": "ProgressView",
            "style": "IPY_MODEL_65b9877d7b2b48f39bebe928e57bbdc2",
            "_dom_classes": [],
            "description": "100%",
            "_model_name": "FloatProgressModel",
            "bar_style": "info",
            "max": 85,
            "_view_module": "@jupyter-widgets/controls",
            "_model_module_version": "1.5.0",
            "value": 85,
            "_view_count": null,
            "_view_module_version": "1.5.0",
            "orientation": "horizontal",
            "min": 0,
            "description_tooltip": null,
            "_model_module": "@jupyter-widgets/controls",
            "layout": "IPY_MODEL_840e4a9b2c0448038caa919733dc2c73"
          }
        },
        "9bd8d74c03454e28a5e996a9708b1313": {
          "model_module": "@jupyter-widgets/controls",
          "model_name": "HTMLModel",
          "state": {
            "_view_name": "HTMLView",
            "style": "IPY_MODEL_fc9a6365e7dd40d1817a7012ba1379c5",
            "_dom_classes": [],
            "description": "",
            "_model_name": "HTMLModel",
            "placeholder": "​",
            "_view_module": "@jupyter-widgets/controls",
            "_model_module_version": "1.5.0",
            "value": " 85.0/85.0 [00:01&lt;00:00, 54.8batch/s, loss=0.000297]",
            "_view_count": null,
            "_view_module_version": "1.5.0",
            "description_tooltip": null,
            "_model_module": "@jupyter-widgets/controls",
            "layout": "IPY_MODEL_0efd48e69e954497b5dd68239b8ef33d"
          }
        },
        "65b9877d7b2b48f39bebe928e57bbdc2": {
          "model_module": "@jupyter-widgets/controls",
          "model_name": "ProgressStyleModel",
          "state": {
            "_view_name": "StyleView",
            "_model_name": "ProgressStyleModel",
            "description_width": "initial",
            "_view_module": "@jupyter-widgets/base",
            "_model_module_version": "1.5.0",
            "_view_count": null,
            "_view_module_version": "1.2.0",
            "bar_color": null,
            "_model_module": "@jupyter-widgets/controls"
          }
        },
        "840e4a9b2c0448038caa919733dc2c73": {
          "model_module": "@jupyter-widgets/base",
          "model_name": "LayoutModel",
          "state": {
            "_view_name": "LayoutView",
            "grid_template_rows": null,
            "right": null,
            "justify_content": null,
            "_view_module": "@jupyter-widgets/base",
            "overflow": null,
            "_model_module_version": "1.2.0",
            "_view_count": null,
            "flex_flow": null,
            "width": null,
            "min_width": null,
            "border": null,
            "align_items": null,
            "bottom": null,
            "_model_module": "@jupyter-widgets/base",
            "top": null,
            "grid_column": null,
            "overflow_y": null,
            "overflow_x": null,
            "grid_auto_flow": null,
            "grid_area": null,
            "grid_template_columns": null,
            "flex": null,
            "_model_name": "LayoutModel",
            "justify_items": null,
            "grid_row": null,
            "max_height": null,
            "align_content": null,
            "visibility": null,
            "align_self": null,
            "height": null,
            "min_height": null,
            "padding": null,
            "grid_auto_rows": null,
            "grid_gap": null,
            "max_width": null,
            "order": null,
            "_view_module_version": "1.2.0",
            "grid_template_areas": null,
            "object_position": null,
            "object_fit": null,
            "grid_auto_columns": null,
            "margin": null,
            "display": null,
            "left": null
          }
        },
        "fc9a6365e7dd40d1817a7012ba1379c5": {
          "model_module": "@jupyter-widgets/controls",
          "model_name": "DescriptionStyleModel",
          "state": {
            "_view_name": "StyleView",
            "_model_name": "DescriptionStyleModel",
            "description_width": "",
            "_view_module": "@jupyter-widgets/base",
            "_model_module_version": "1.5.0",
            "_view_count": null,
            "_view_module_version": "1.2.0",
            "_model_module": "@jupyter-widgets/controls"
          }
        },
        "0efd48e69e954497b5dd68239b8ef33d": {
          "model_module": "@jupyter-widgets/base",
          "model_name": "LayoutModel",
          "state": {
            "_view_name": "LayoutView",
            "grid_template_rows": null,
            "right": null,
            "justify_content": null,
            "_view_module": "@jupyter-widgets/base",
            "overflow": null,
            "_model_module_version": "1.2.0",
            "_view_count": null,
            "flex_flow": null,
            "width": null,
            "min_width": null,
            "border": null,
            "align_items": null,
            "bottom": null,
            "_model_module": "@jupyter-widgets/base",
            "top": null,
            "grid_column": null,
            "overflow_y": null,
            "overflow_x": null,
            "grid_auto_flow": null,
            "grid_area": null,
            "grid_template_columns": null,
            "flex": null,
            "_model_name": "LayoutModel",
            "justify_items": null,
            "grid_row": null,
            "max_height": null,
            "align_content": null,
            "visibility": null,
            "align_self": null,
            "height": null,
            "min_height": null,
            "padding": null,
            "grid_auto_rows": null,
            "grid_gap": null,
            "max_width": null,
            "order": null,
            "_view_module_version": "1.2.0",
            "grid_template_areas": null,
            "object_position": null,
            "object_fit": null,
            "grid_auto_columns": null,
            "margin": null,
            "display": null,
            "left": null
          }
        }
      }
    }
  },
  "cells": [
    {
      "cell_type": "markdown",
      "metadata": {
        "id": "view-in-github",
        "colab_type": "text"
      },
      "source": [
        "<a href=\"https://colab.research.google.com/github/cybertraining-dsc/collab/blob/master/General_Science_Transformer.ipynb\" target=\"_parent\"><img src=\"https://colab.research.google.com/assets/colab-badge.svg\" alt=\"Open In Colab\"/></a>"
      ]
    },
    {
      "cell_type": "markdown",
      "metadata": {
        "colab_type": "text",
        "id": "s_qNSzzyaCbD"
      },
      "source": [
        "##### Copyright 2019 The TensorFlow Authors and Geoffrey Fox 2020\n"
      ]
    },
    {
      "cell_type": "code",
      "metadata": {
        "cellView": "form",
        "colab_type": "code",
        "id": "jmjh290raIky",
        "colab": {}
      },
      "source": [
        "#@title Licensed under the Apache License, Version 2.0 (the \"License\");\n",
        "# you may not use this file except in compliance with the License.\n",
        "# You may obtain a copy of the License at\n",
        "#\n",
        "# https://www.apache.org/licenses/LICENSE-2.0\n",
        "#\n",
        "# Unless required by applicable law or agreed to in writing, software\n",
        "# distributed under the License is distributed on an \"AS IS\" BASIS,\n",
        "# WITHOUT WARRANTIES OR CONDITIONS OF ANY KIND, either express or implied.\n",
        "# See the License for the specific language governing permissions and\n",
        "# limitations under the License."
      ],
      "execution_count": null,
      "outputs": []
    },
    {
      "cell_type": "markdown",
      "metadata": {
        "id": "LWNb05uZ7V9I",
        "colab_type": "text"
      },
      "source": [
        "# Initial System Code"
      ]
    },
    {
      "cell_type": "code",
      "metadata": {
        "id": "w4cXSlPV7hNG",
        "colab_type": "code",
        "colab": {
          "base_uri": "https://localhost:8080/",
          "height": 141
        },
        "outputId": "79a9d8ad-2622-4cd0-c439-b515bc2cbf4c"
      },
      "source": [
        "startbold = \"\\033[1m\"\n",
        "resetfonts = \"\\033[0m\"\n",
        "startred = '\\033[31m'\n",
        "startpurple = '\\033[35m'\n",
        "startyellowbkg = '\\033[43m'\n",
        "\n",
        "gpu_info = !nvidia-smi\n",
        "gpu_info = '\\n'.join(gpu_info)\n",
        "if gpu_info.find('failed') >= 0:\n",
        "  print('Select the Runtime > \"Change runtime type\" menu to enable a GPU accelerator, ')\n",
        "else:\n",
        "  print(gpu_info)\n",
        "\n",
        "from google.colab import drive\n",
        "drive.mount('/content/gdrive')"
      ],
      "execution_count": null,
      "outputs": [
        {
          "output_type": "stream",
          "text": [
            "Select the Runtime > \"Change runtime type\" menu to enable a GPU accelerator, \n",
            "Go to this URL in a browser: https://accounts.google.com/o/oauth2/auth?client_id=947318989803-6bn6qk8qdgf4n4g3pfee6491hc0brc4i.apps.googleusercontent.com&redirect_uri=urn%3aietf%3awg%3aoauth%3a2.0%3aoob&scope=email%20https%3a%2f%2fwww.googleapis.com%2fauth%2fdocs.test%20https%3a%2f%2fwww.googleapis.com%2fauth%2fdrive%20https%3a%2f%2fwww.googleapis.com%2fauth%2fdrive.photos.readonly%20https%3a%2f%2fwww.googleapis.com%2fauth%2fpeopleapi.readonly&response_type=code\n",
            "\n",
            "Enter your authorization code:\n",
            "··········\n",
            "Mounted at /content/gdrive\n"
          ],
          "name": "stdout"
        }
      ]
    },
    {
      "cell_type": "markdown",
      "metadata": {
        "colab_type": "text",
        "id": "J0Qjg6vuaHNt"
      },
      "source": [
        "# Transformer model for science data based on original for language understanding"
      ]
    },
    {
      "cell_type": "markdown",
      "metadata": {
        "colab_type": "text",
        "id": "AOpGoE2T-YXS"
      },
      "source": [
        "<table class=\"tfo-notebook-buttons\" align=\"left\">\n",
        "  <td>\n",
        "    <a target=\"_blank\" href=\"https://www.tensorflow.org/tutorials/text/transformer\">\n",
        "    <img src=\"https://www.tensorflow.org/images/tf_logo_32px.png\" />\n",
        "    View on TensorFlow.org</a>\n",
        "  </td>\n",
        "  <td>\n",
        "    <a target=\"_blank\" href=\"https://colab.research.google.com/github/tensorflow/docs/blob/master/site/en/tutorials/text/transformer.ipynb\">\n",
        "    <img src=\"https://www.tensorflow.org/images/colab_logo_32px.png\" />\n",
        "    Run in Google Colab</a>\n",
        "  </td>\n",
        "  <td>\n",
        "    <a target=\"_blank\" href=\"https://github.com/tensorflow/docs/blob/master/site/en/tutorials/text/transformer.ipynb\">\n",
        "    <img src=\"https://www.tensorflow.org/images/GitHub-Mark-32px.png\" />\n",
        "    View source on GitHub</a>\n",
        "  </td>\n",
        "  <td>\n",
        "    <a href=\"https://storage.googleapis.com/tensorflow_docs/docs/site/en/tutorials/text/transformer.ipynb\"><img src=\"https://www.tensorflow.org/images/download_logo_32px.png\" />Download notebook</a>\n",
        "  </td>\n",
        "</table>"
      ]
    },
    {
      "cell_type": "markdown",
      "metadata": {
        "colab_type": "text",
        "id": "M-f8TnGpE_ex"
      },
      "source": [
        "This tutorial trains a <a href=\"https://arxiv.org/abs/1706.03762\" class=\"external\">Transformer model</a> to translate Portuguese to English. This is an advanced example that assumes knowledge of [text generation](text_generation.ipynb) and [attention](nmt_with_attention.ipynb).\n",
        "\n",
        "The core idea behind the Transformer model is *self-attention*—the ability to attend to different positions of the input sequence to compute a representation of that sequence. Transformer creates stacks of self-attention layers and is explained below in the sections *Scaled dot product attention* and *Multi-head attention*.\n",
        "\n",
        "A transformer model handles variable-sized input using stacks of self-attention layers instead of [RNNs](text_classification_rnn.ipynb) or [CNNs](../images/intro_to_cnns.ipynb). This general architecture has a number of advantages:\n",
        "\n",
        "* It make no assumptions about the temporal/spatial relationships across the data. This is ideal for processing a set of objects (for example, [StarCraft units](https://deepmind.com/blog/alphastar-mastering-real-time-strategy-game-starcraft-ii/#block-8)).\n",
        "* Layer outputs can be calculated in parallel, instead of a series like an RNN.\n",
        "* Distant items can affect each other's output without passing through many RNN-steps, or convolution layers (see [Scene Memory Transformer](https://arxiv.org/pdf/1903.03878.pdf) for example).\n",
        "* It can learn long-range dependencies. This is a challenge in many sequence tasks.\n",
        "\n",
        "The downsides of this architecture are:\n",
        "\n",
        "* For a time-series, the output for a time-step is calculated from the *entire history* instead of only the inputs and current hidden-state. This _may_ be less efficient.   \n",
        "* If the input *does* have a  temporal/spatial relationship, like text, some positional encoding must be added or the model will effectively see a bag of words. \n",
        "\n",
        "After training the model in this notebook, you will be able to input a Portuguese sentence and return the English translation.\n",
        "\n",
        "<img src=\"https://www.tensorflow.org/images/tutorials/transformer/attention_map_portuguese.png\" width=\"800\" alt=\"Attention heatmap\">"
      ]
    },
    {
      "cell_type": "markdown",
      "metadata": {
        "id": "HA3Lx2aY1xeg",
        "colab_type": "text"
      },
      "source": [
        "## Science Data Parameters and Sizes"
      ]
    },
    {
      "cell_type": "markdown",
      "metadata": {
        "id": "EMY9LokXwa9K",
        "colab_type": "text"
      },
      "source": [
        "-------\n",
        "Here is structure of science time series module. We will need several arrays that will need to be flattened at times. Note Python defaults to row major i.e. final index describes contiguous positions in memory\n",
        "\n",
        "\n",
        "At highest level data is labeled by Time and Location\n",
        "\n",
        "*   Ttot is total number of time steps\n",
        "*   Tseq is length of each sequence in time steps\n",
        "*   Num_Seq is number of sequences in time: Num_Seq = Ttot-Tseq + 1\n",
        "*   Nloc is Number of locations. The locations could be a 1D list or have array structure such as an image.\n",
        "*   Nsample is number of data samples Nloc * Num_Seq\n",
        "\n",
        "\n",
        "\n",
        "\n",
        "Input data is at each location\n",
        "*   Nprop time independent properties describing the location\n",
        "*   Nforcing is number of time dependent forcing features INPUT at each time value\n",
        "\n",
        "\n",
        "Output (predicted) data at each location and for each time sequence is\n",
        "*   Npred predicted time dependent values defined at every time step\n",
        "*   Recorded at Nforecast time values measured wrt final time value of sequence\n",
        "*   ForecastDay is an array of length Nforecast defining how many days into future prediction is. Typically ForecastDay[0] = 1 and Nforecast is often 1\n",
        "*   There is also a class of science problems that are more similar to classic Seq2Seq. Here Nforecast = Tseq and ForecastDay = [-Tseq+1 ... 0]\n",
        "*   We also support Nwishful predictions of events in future such probability of an earthquake of magnitude 6 in next 3 years. These are defined by araays EventType and Timestart, TimeInterval of length Nwishful. EventType is user defined and Timestart, TimeInterval is measured in time steps\n",
        "*   Any missing output values should be set to NaN and Loss function must ensure that these points are ignored in derivative calculation and value calculation\n",
        "\n",
        "We have an input module that supports either LSTM or Transformer (multi-head attention) models\n",
        "\n",
        "Example Problem AICov\n",
        "\n",
        "*   Ttot = 114\n",
        "*   Tseq = 9\n",
        "*   Num_Seq = 106\n",
        "*   Nloc = 110\n",
        "\n",
        "\n",
        "*   Nprop = 35\n",
        "*   Nforcing = 5 including infections, fatalities, plus 3 temporal position variables (last 3 not in current version)\n",
        " \n",
        " \n",
        "*   Npred = 2 (predicted infections and fatalities). Could be 5 if predicted temporal position of output)\n",
        "*   Nforecast= 15\n",
        "*   ForecastDay = [1, 2, .......14, 15]\n",
        "*   Nwishful = 0\n",
        "\n",
        "\n",
        "\n",
        "\n",
        "\n",
        "\n",
        "\n",
        "\n",
        "\n",
        "\n",
        "\n",
        "\n",
        "\n",
        "\n",
        "\n",
        "\n",
        "\n",
        "\n"
      ]
    },
    {
      "cell_type": "markdown",
      "metadata": {
        "id": "_UlOJMJ31SoG",
        "colab_type": "text"
      },
      "source": [
        "## Science Data Arrays"
      ]
    },
    {
      "cell_type": "markdown",
      "metadata": {
        "id": "BdszPs9on5gk",
        "colab_type": "text"
      },
      "source": [
        "Typical Arrays\n",
        "\n",
        "\n",
        "[ time, Location ] as Pandas array with label [name of time-dependent variable] as an array or just name of Pandas array\n",
        "\n",
        "time labels rows indexed by datetime or the difference datetime - start\n",
        "\n",
        "Non windowed data is stored with propert name as row index and location as column index\n",
        "[ static property, Location]\n",
        "\n",
        "Covid Input is\n",
        "[Sequence number 0..Num_Seq-1 ] [ Location 0..Nloc-1 ] [position in time sequence Tseq]  [ Input Features]\n",
        "\n",
        "Covid Output is \n",
        "[Sequence number Num_Seq ] [ Location Nloc ]  [ Output Features] \n",
        "\n",
        "Output Features are [ ipred = 0 ..Npred-1 ] [ iforecast = 0 ..Nforecast-1 ]\n",
        "\n",
        "Input Features are static fields followed by if present by dynamic system fields (cos-theta sin-theta linear) chosen followed by cases, deaths. In fact this is user chosen as they set static and dynamic system properties to use"
      ]
    },
    {
      "cell_type": "markdown",
      "metadata": {
        "id": "8-iizX9OKmI3",
        "colab_type": "text"
      },
      "source": [
        "We will have various numpy and pandas arrays where we designate label\n",
        "\n",
        "[Ttot] is all time values \n",
        "\n",
        "[Num_Seq]  is all sequences of window size ***Tseq***\n",
        "\n",
        "We can select time values or sequences [Ttot-reason] [Num_Seq-reason] for a given \"reason\"\n",
        "\n",
        "[Num_Seq][Tseq] is all time values in all sequences\n",
        "\n",
        "[Nloc] is all locations while [Nloc-reason] is subset of locations for given \"reason\"\n",
        "\n",
        "[Model1] is initial embedding of each data point\n",
        "\n",
        "[Model1+TrPosEnc] is initial embedding of each data point with Transformer style positional encoding\n",
        "\n",
        "[Nforcing] is time dependent input parameters and [Nprop] static properties while [ExPosEnc] are explicit positional (temporal) encoding.\n",
        "\n",
        "[Nforcing+ExPosEnc+Nprop] are all possible inputs\n",
        "\n",
        "[Npred] is predicted values with [Npred+ExPosEnc] as predictions plus encodings with actually used [Predvals] = [Npred+ExPosEnc-Selout] \n",
        "\n",
        "[Predtimes] = [Forecast time range] are times forecasted with \"time range\" separately defined\n",
        "\n"
      ]
    },
    {
      "cell_type": "markdown",
      "metadata": {
        "id": "IqUzXxXfc6dx",
        "colab_type": "text"
      },
      "source": [
        ""
      ]
    },
    {
      "cell_type": "markdown",
      "metadata": {
        "id": "uO_1dNu0dhw5",
        "colab_type": "text"
      },
      "source": [
        "Indexed by city number 0..Nloc-1 [Nloc]\n",
        "Locationname"
      ]
    },
    {
      "cell_type": "markdown",
      "metadata": {
        "id": "RwCAZxnf3PoN",
        "colab_type": "text"
      },
      "source": [
        "## Code for defining (import) basic modules"
      ]
    },
    {
      "cell_type": "code",
      "metadata": {
        "colab_type": "code",
        "id": "JjJJyJTZYebt",
        "colab": {}
      },
      "source": [
        "import tensorflow_datasets as tfds\n",
        "import tensorflow as tf\n",
        "from tqdm import tqdm\n",
        "from tqdm.keras import TqdmCallback\n",
        "from tensorflow.keras.models import Sequential\n",
        "from tensorflow.keras.layers import LSTM\n",
        "from tensorflow.keras.layers import GRU\n",
        "from tensorflow.keras.layers import Dense\n",
        "\n",
        "import os\n",
        "from csv import reader\n",
        "import sys\n",
        "import random\n",
        "import math\n",
        "import numpy as np\n",
        "import matplotlib.pyplot as plt\n",
        "import pandas as pd\n",
        "import io as io\n",
        "import string\n",
        "\n",
        "import time\n",
        "import datetime\n",
        "from datetime import timedelta,date,datetime"
      ],
      "execution_count": null,
      "outputs": []
    },
    {
      "cell_type": "markdown",
      "metadata": {
        "colab_type": "text",
        "id": "fd1NWMxjfsDd"
      },
      "source": [
        "## Define input structure"
      ]
    },
    {
      "cell_type": "markdown",
      "metadata": {
        "id": "DefDaYecDhIM",
        "colab_type": "text"
      },
      "source": [
        "## Code to read in data and set it up for Tensorflow with training and validation\n"
      ]
    },
    {
      "cell_type": "markdown",
      "metadata": {
        "id": "9kj1DvDTneDZ",
        "colab_type": "text"
      },
      "source": [
        "Set train_examples, val_examples as science training and validatioon set.\n",
        "\n",
        "The shuffling of Science Data needs some care. We have ***Tseq*** * size of {[Num_Seq][Nloc]} locations in each sample. In simplease case the last is just a decomposition over location; not over time. Let's Nloc-sel be number of locations per sample. It will be helpful if Nloc-sel is divisable by 2. \n",
        "\n",
        "Perhaps Nloc-sel = 2 6 or 10 is reasonable.\n",
        "\n",
        "Then you shuffle locations every epoch and divide them into groups of size Nloc-sel with 50% overlap so you get locations\n",
        "\n",
        "0 1 2 3 4 5; \n",
        "\n",
        "3 4 5 6 7 8; \n",
        "\n",
        "6 7 8 9 10 11 etc.\n",
        "\n",
        "Every locations appears twice in an epoch (for each time value). You need to randomly add locations at end of sequence so it is divisiuble by Nloc-sel e.g add 4 random positions to the end if Nloc=110 and Nloc-sel = 6. Note last group of 6 has members 112 113 114 0 1 2\n",
        "\n",
        "After spatial structure set up, randomly shuffle in Num_Seq where there is an argument to do all locations for a partcular time value together.\n",
        "\n",
        "For validation, it is probably best to select validation location before chopping them into groups of size Nloc-sel\n",
        "\n",
        "How one groups locations for inference is not clear. One idea is to take trained network and use it to find for each location which other locations have the most attention with it. Use those locations in  prediction"
      ]
    },
    {
      "cell_type": "markdown",
      "metadata": {
        "id": "N2KQcxrRa1QT",
        "colab_type": "text"
      },
      "source": [
        "### Major Data defining COVID problem"
      ]
    },
    {
      "cell_type": "code",
      "metadata": {
        "id": "tV2GPBxY4yr7",
        "colab_type": "code",
        "colab": {
          "base_uri": "https://localhost:8080/",
          "height": 1000
        },
        "outputId": "b164414f-c871-4afe-a910-aec95c3cbc1f"
      },
      "source": [
        "def float32fromstrwithNaN(instr):\n",
        "  if instr == 'NaN':\n",
        "    return NaN\n",
        "  return np.float32(instr)\n",
        "\n",
        "def printexit(exitmessage):\n",
        "  print(exitmessage)\n",
        "  sys.exit()\n",
        "\n",
        "def strrnd(value):\n",
        "  return str(round(value,4))\n",
        "\n",
        "# read in science data for COVID\n",
        "COLABROOTDIR=\"/content/gdrive/My Drive/Colab Datasets\"\n",
        "\n",
        "os.environ[\"COLABROOTDIR\"] = COLABROOTDIR\n",
        "COVIDDIR=os.path.join(COLABROOTDIR, \"COVIDJuly2020\")\n",
        "!ls /content/gdrive/'My Drive'/'Colab Datasets'/COVIDJuly2020\n",
        "XFile = COVIDDIR + '/' + 'InputSequences14F1.csv'\n",
        "yFile = COVIDDIR + '/' + 'Predictions14F1.csv'\n",
        "PropnameFile = COVIDDIR + '/' + 'Propname14F.csv'\n",
        "PredictionnameFile = COVIDDIR + '/' + 'Predictionname14F.csv'\n",
        "LocationdataFile = COVIDDIR + '/' + 'Locationdata14F.csv'\n",
        "NaN = np.float32(\"NaN\")\n",
        "\n",
        "# Read in Information about locations\n",
        "with open(LocationdataFile, 'r') as read_obj:\n",
        "    csv_reader = reader(read_obj)\n",
        "    header = next(csv_reader)\n",
        "    Nloc = int(header[1])\n",
        "    Locationname = []\n",
        "    Locationstate = []\n",
        "    Locationcolumns = []\n",
        "    Locationfips = np.empty(Nloc, dtype=int)\n",
        "    Locationpopulation = np.empty(Nloc, dtype=int)\n",
        "    Locationindex = np.empty(Nloc, dtype=int)\n",
        "    print(startbold + '\\nLocation Data' + resetfonts)\n",
        "\n",
        "    for nextrow in csv_reader:\n",
        "      i = int(nextrow[0])\n",
        "      Locationindex[i] = i\n",
        "      Locationname.append(nextrow[3])\n",
        "      Locationstate.append(nextrow[2])\n",
        "      Locationfips[i] = int(nextrow[1])\n",
        "      Locationcolumns.append(str(Locationfips[i]))\n",
        "      Locationpopulation[i] = int(nextrow[4])\n",
        "      print(str(i) + ' FIPS '+ str(Locationfips[i]) + ' Pop ' + str(Locationpopulation[i]) + ' State ' + str(Locationstate[i]) + ' Region ' + str(Locationname[i]))\n",
        "locationdf = pd.DataFrame([], columns = Locationcolumns)\n",
        "newrow = pd.Series(Locationfips,index=Locationcolumns)\n",
        "locationdf.loc['FIPS'] = newrow\n",
        "newrow = pd.Series(Locationindex,index=Locationcolumns)\n",
        "locationdf.loc['columnnumber'] = newrow\n",
        "newrow = pd.Series(Locationname,index=Locationcolumns)\n",
        "locationdf.loc['City'] = newrow\n",
        "newrow = pd.Series(Locationstate,index=Locationcolumns)\n",
        "locationdf.loc['State'] = newrow\n",
        "newrow = pd.Series(Locationpopulation,index=Locationcolumns)\n",
        "locationdf.loc['Population'] = newrow\n",
        "\n",
        "\n",
        "# Read in property names into Propname[]\n",
        "with open(PropnameFile, 'r') as read_obj:\n",
        "    csv_reader = reader(read_obj)\n",
        "    header = next(csv_reader)\n",
        "    Npropperseq = int(header[1])\n",
        "    PopulationNorm = False\n",
        "    if header[2] == 'True':\n",
        "      PopulationNorm = True\n",
        "    CASESMAX = float(header[3])\n",
        "    DEATHMAX = float(header[4])\n",
        "    InputPropertyNames = next(csv_reader)\n",
        "    if InputPropertyNames[len(InputPropertyNames)-1] == '':\n",
        "      InputPropertyNames.pop()\n",
        "    if len(InputPropertyNames) != Npropperseq:\n",
        "      printexit('EXIT Inconsistent Property Lengths ' +str(len(InputPropertyNames)) + ' ' + str(Npropperseq))\n",
        "    PropertyValues = np.empty([Npropperseq,7], dtype=float)\n",
        "    for quantity in range(0,7): #['Min','Max','Norm','Mean','Std','Normed Mean','Normed Std']\n",
        "      nextrow = next(csv_reader)\n",
        "      for i in range (0, Npropperseq-2):\n",
        "        PropertyValues[i,quantity] = nextrow[i]\n",
        "for i in range (Npropperseq-2,Npropperseq): # Cases and Deaths\n",
        "  for quantity in range(0,7):\n",
        "    PropertyValues[i,quantity] = 0\n",
        "PropertyValues[Npropperseq-2, 1] = float(CASESMAX)\n",
        "PropertyValues[Npropperseq-1, 1] = float(DEATHMAX)\n",
        "\n",
        "line = startbold + 'Name   Min , Max , Norm , Mean , Std , Normed Mean , Normed Std' + resetfonts\n",
        "print(\"\\n\" + line)\n",
        "for i in range(0,Npropperseq):\n",
        "  line = str(i) + ' ' + InputPropertyNames[i] + ' : '\n",
        "  for quantity in range(0,7):\n",
        "    line += strrnd(PropertyValues[i,quantity]) + ', '\n",
        "  print(line)\n",
        "\n",
        "# Read in prediction names into Predictionname[] etc.\n",
        "with open(PredictionnameFile, 'r') as read_obj:\n",
        "    csv_reader = reader(read_obj)\n",
        "    header = next(csv_reader)\n",
        "    Npredperseq = int(header[1])\n",
        "    Predictionname = []\n",
        "    Predictiontype = np.empty(Npredperseq, dtype=int)\n",
        "    Predictionday = np.empty(Npredperseq, dtype=int)\n",
        "    Predictionwgt = np.empty(Npredperseq, dtype=float)\n",
        "    i = 0\n",
        "    Predictionnamelookup = {}\n",
        "    for nextrow in csv_reader:\n",
        "      stredit = nextrow[3].replace('Next ','Next')\n",
        "      finalname = stredit.replace(' ','')\n",
        "      Predictionname.append(finalname)\n",
        "      Predictionnamelookup[finalname] = i\n",
        "      Predictiontype[i] = int(nextrow[0])\n",
        "      Predictionday[i] = int(nextrow[1])\n",
        "      Predictionwgt[i] = float(nextrow[2])\n",
        "      i += 1\n",
        "\n",
        "print('\\nPredicted Quantities')\n",
        "for i in range(0,Npredperseq):\n",
        "  line = ' Cases'\n",
        "  if Predictiontype[i] == 1:\n",
        "    line = 'Deaths'\n",
        "  line += ' Day= ' + str(Predictionday[i])\n",
        "  line += ' Weight ' + str(Predictionwgt[i])\n",
        "  line += ' Name ' + Predictionname[i]\n",
        "  print(line)\n",
        "\n",
        "# Read in  sequence Data into RawInputSequences\n",
        "with open(XFile, 'r') as read_obj:\n",
        "    csv_reader = reader(read_obj)\n",
        "    header = next(csv_reader)\n",
        "    Ftype = header[0]\n",
        "    if Ftype != 'X':\n",
        "      printexit('EXIT: Wrong file type ' + Ftype)\n",
        "\n",
        "    numdims = int(header[1])\n",
        "    if numdims != 4:\n",
        "      printexit('EXIT: Wrong number of dimensions ' + str(numdims))\n",
        "    \n",
        "    Num_Seq = int(header[3])\n",
        "    Nloc1 = int(header[2])\n",
        "    if Nloc != Nloc:\n",
        "      printexit('EXIT Inconsistent Location Numbers ' + str(Nloc) + ' ' + str(Nloc1))\n",
        "    Tseq = int(header[4])\n",
        "    Npropperseq1 = int(header[5])\n",
        "    if Npropperseq != Npropperseq1:\n",
        "      printexit('EXIT Inconsistent Property Lists ' + str(Npropperseq) + ' ' + str(Npropperseq1))\n",
        "    RawInputSequences = np.zeros([Num_Seq, Nloc, Tseq, Npropperseq], dtype =np.float32)\n",
        "    print(\"Input Sequences, Locations, members sequence, input variables \",np.shape(RawInputSequences))\n",
        "    \n",
        "    totinput = 0\n",
        "    totnan = 0\n",
        "    for nextrow in csv_reader:\n",
        "      i = int(nextrow[1]) \n",
        "      j = int(nextrow[0])\n",
        "      k = int(nextrow[2])\n",
        "      for l in range(0,Npropperseq):\n",
        "        val = float32fromstrwithNaN(nextrow[3+l])\n",
        "        if np.isnan(val):\n",
        "          totnan +=1\n",
        "        RawInputSequences[i,j,k,l] = val\n",
        "      totinput += Npropperseq\n",
        "    print(\"Number of Sequences \",totinput,\" Number of input NaN\", totnan)\n",
        "    if totnan != 0:\n",
        "      printexit('EXIT: NaN in sequence input ' + str(totnan))\n",
        "    totinputexpected = Num_Seq * Nloc * Tseq * Npropperseq\n",
        "    if totinput != totinputexpected:\n",
        "      printexit('EXIT: missing sequence input ' + str(totinputexpected) + ' ' + str(totinput))\n",
        " \n",
        " # Read in prediction Data into RawInputPredictions\n",
        "with open(yFile, 'r') as read_obj:\n",
        "    csv_reader = reader(read_obj)\n",
        "    header = next(csv_reader)\n",
        "    Ftype = header[0]\n",
        "    if Ftype != 'y':\n",
        "      printexit('EXIT: Wrong file type ' + Ftype)\n",
        "    numdims = int(header[1])\n",
        "    if numdims != 3:\n",
        "      printexit('EXIT: Wrong number of dimensions ' + str(numdims))     \n",
        "    Num_Seq1 = int(header[3])\n",
        "    if Num_Seq1 != Num_Seq:\n",
        "      printexit('EXIT: Wrong number of Sequences ' + str(Num_Seq) + ' ' + str(Num_Seq1))\n",
        "    Nloc1 = int(header[2])\n",
        "    if Nloc1 != Nloc:\n",
        "      printexit('EXIT: Wrong number of locations ' + str(Nloc) + ' ' + str(Nloc1))\n",
        "\n",
        "    Npredperseq1 = int(header[4])\n",
        "    if Npredperseq1 != Npredperseq:\n",
        "      printexit('EXIT Inconsistent Numbers of Predictions ' + str(Npredperseq) + ' ' + str(Npredperseq1))\n",
        "    RawInputPredictions = np.zeros([Num_Seq, Nloc, Npredperseq], dtype =np.float32)\n",
        "    print(\"Input Sequences, Locations, Predictions per sequence\", np.shape(RawInputPredictions))\n",
        "    \n",
        "    totinput = 0\n",
        "    totnan = 0\n",
        "    for nextrow in csv_reader:\n",
        "      i = int(nextrow[1]) \n",
        "      j = int(nextrow[0])\n",
        "      for k in range(0, Npredperseq):\n",
        "        val = float32fromstrwithNaN(nextrow[2+k])\n",
        "        if np.isnan(val):\n",
        "          totnan +=1\n",
        "        RawInputPredictions[i,j,k] = val\n",
        "      totinput +=  Npredperseq\n",
        "    print(\"Number of Predictions \",totinput,\" including number of NaN (missing prediction)\", totnan)\n",
        "    totinputexpected = Num_Seq * Nloc * Npredperseq\n",
        "    if totinput != totinputexpected:\n",
        "      printexit('EXIT: missing sequence input ' + str(totinputexpected) + ' ' + str(totinput))\n",
        "   "
      ],
      "execution_count": null,
      "outputs": [
        {
          "output_type": "stream",
          "text": [
            "InputSequences14F1.csv\tPredictionname14F.csv  Propname14F.csv\n",
            "InputSequences14F.csv\tPredictions14F1.csv\n",
            "Locationdata14F.csv\tPredictions14F.csv\n",
            "\u001b[1m\n",
            "Location Data\u001b[0m\n",
            "0 FIPS 17031 Pop 5150233 State Illinois Region Cook, Illinois, US\n",
            "1 FIPS 17197 Pop 690743 State Illinois Region Will, Illinois, US\n",
            "2 FIPS 17043 Pop 922921 State Illinois Region DuPage, Illinois, US\n",
            "3 FIPS 1073 Pop 658573 State Alabama Region Jefferson, Alabama, US\n",
            "4 FIPS 26161 Pop 367601 State Michigan Region Washtenaw, Michigan, US\n",
            "5 FIPS 26163 Pop 1749343 State Michigan Region Wayne, Michigan, US\n",
            "6 FIPS 36029 Pop 918702 State New York Region Erie, New York, US\n",
            "7 FIPS 25027 Pop 830622 State Massachusetts Region Worcester, Massachusetts, US\n",
            "8 FIPS 1097 Pop 413210 State Alabama Region Mobile, Alabama, US\n",
            "9 FIPS 25013 Pop 466372 State Massachusetts Region Hampden, Massachusetts, US\n",
            "10 FIPS 25009 Pop 789034 State Massachusetts Region Essex, Massachusetts, US\n",
            "11 FIPS 36119 Pop 967506 State New York Region Westchester, New York, US\n",
            "12 FIPS 25005 Pop 565217 State Massachusetts Region Bristol, Massachusetts, US\n",
            "13 FIPS 25021 Pop 706775 State Massachusetts Region Norfolk, Massachusetts, US\n",
            "14 FIPS 4013 Pop 4485414 State Arizona Region Maricopa, Arizona, US\n",
            "15 FIPS 18097 Pop 964582 State Indiana Region Marion, Indiana, US\n",
            "16 FIPS 18057 Pop 338011 State Indiana Region Hamilton, Indiana, US\n",
            "17 FIPS 18089 Pop 485493 State Indiana Region Lake, Indiana, US\n",
            "18 FIPS 17097 Pop 696535 State Illinois Region Lake, Illinois, US\n",
            "19 FIPS 34017 Pop 672391 State New Jersey Region Hudson, New Jersey, US\n",
            "20 FIPS 32031 Pop 471519 State Nevada Region Washoe, Nevada, US\n",
            "21 FIPS 36001 Pop 305506 State New York Region Albany, New York, US\n",
            "22 FIPS 32003 Pop 2266715 State Nevada Region Clark, Nevada, US\n",
            "23 FIPS 34031 Pop 501826 State New Jersey Region Passaic, New Jersey, US\n",
            "24 FIPS 34039 Pop 556341 State New Jersey Region Union, New Jersey, US\n",
            "25 FIPS 34013 Pop 798975 State New Jersey Region Essex, New Jersey, US\n",
            "26 FIPS 25017 Pop 1611699 State Massachusetts Region Middlesex, Massachusetts, US\n",
            "27 FIPS 34021 Pop 367430 State New Jersey Region Mercer, New Jersey, US\n",
            "28 FIPS 6001 Pop 1671329 State California Region Alameda, California, US\n",
            "29 FIPS 6059 Pop 3175692 State California Region Orange, California, US\n",
            "30 FIPS 6013 Pop 1153526 State California Region Contra Costa, California, US\n",
            "31 FIPS 22071 Pop 390144 State Louisiana Region Orleans, Louisiana, US\n",
            "32 FIPS 21111 Pop 766757 State Kentucky Region Jefferson, Kentucky, US\n",
            "33 FIPS 22051 Pop 432493 State Louisiana Region Jefferson, Louisiana, US\n",
            "34 FIPS 22033 Pop 440059 State Louisiana Region East Baton Rouge, Louisiana, US\n",
            "35 FIPS 6029 Pop 900202 State California Region Kern, California, US\n",
            "36 FIPS 6037 Pop 10039107 State California Region Los Angeles, California, US\n",
            "37 FIPS 6073 Pop 3338330 State California Region San Diego, California, US\n",
            "38 FIPS 36061 Pop 5803210 State New York Region New York City, New York, US\n",
            "39 FIPS 6071 Pop 2180085 State California Region San Bernardino, California, US\n",
            "40 FIPS 6067 Pop 1552058 State California Region Sacramento, California, US\n",
            "41 FIPS 25025 Pop 803907 State Massachusetts Region Suffolk, Massachusetts, US\n",
            "42 FIPS 22017 Pop 240204 State Louisiana Region Caddo, Louisiana, US\n",
            "43 FIPS 24510 Pop 593490 State Maryland Region Baltimore City, Maryland, US\n",
            "44 FIPS 25023 Pop 521202 State Massachusetts Region Plymouth, Massachusetts, US\n",
            "45 FIPS 34007 Pop 506471 State New Jersey Region Camden, New Jersey, US\n",
            "46 FIPS 6065 Pop 2470546 State California Region Riverside, California, US\n",
            "47 FIPS 26049 Pop 405813 State Michigan Region Genesee, Michigan, US\n",
            "48 FIPS 26125 Pop 1257584 State Michigan Region Oakland, Michigan, US\n",
            "49 FIPS 27053 Pop 1265843 State Minnesota Region Hennepin, Minnesota, US\n",
            "50 FIPS 26099 Pop 873972 State Michigan Region Macomb, Michigan, US\n",
            "51 FIPS 29510 Pop 300576 State Missouri Region St. Louis City, Missouri, US\n",
            "52 FIPS 6085 Pop 1927852 State California Region Santa Clara, California, US\n",
            "53 FIPS 6081 Pop 766573 State California Region San Mateo, California, US\n",
            "54 FIPS 42003 Pop 1216045 State Pennsylvania Region Allegheny, Pennsylvania, US\n",
            "55 FIPS 42101 Pop 1584064 State Pennsylvania Region Philadelphia, Pennsylvania, US\n",
            "56 FIPS 42095 Pop 305285 State Pennsylvania Region Northampton, Pennsylvania, US\n",
            "57 FIPS 39049 Pop 1316756 State Ohio Region Franklin, Ohio, US\n",
            "58 FIPS 39095 Pop 428348 State Ohio Region Lucas, Ohio, US\n",
            "59 FIPS 8059 Pop 582881 State Colorado Region Jefferson, Colorado, US\n",
            "60 FIPS 8005 Pop 656590 State Colorado Region Arapahoe, Colorado, US\n",
            "61 FIPS 8031 Pop 727211 State Colorado Region Denver, Colorado, US\n",
            "62 FIPS 8123 Pop 324492 State Colorado Region Weld, Colorado, US\n",
            "63 FIPS 37119 Pop 1110356 State North Carolina Region Mecklenburg, North Carolina, US\n",
            "64 FIPS 36067 Pop 460528 State New York Region Onondaga, New York, US\n",
            "65 FIPS 37183 Pop 1111761 State North Carolina Region Wake, North Carolina, US\n",
            "66 FIPS 42077 Pop 369318 State Pennsylvania Region Lehigh, Pennsylvania, US\n",
            "67 FIPS 9001 Pop 943332 State Connecticut Region Fairfield, Connecticut, US\n",
            "68 FIPS 9003 Pop 891720 State Connecticut Region Hartford, Connecticut, US\n",
            "69 FIPS 10003 Pop 558753 State Delaware Region New Castle, Delaware, US\n",
            "70 FIPS 11001 Pop 705749 State District of Columbia Region District of Columbia,District of Columbia,US\n",
            "71 FIPS 12099 Pop 1496770 State Florida Region Palm Beach, Florida, US\n",
            "72 FIPS 12103 Pop 974996 State Florida Region Pinellas, Florida, US\n",
            "73 FIPS 12011 Pop 1952778 State Florida Region Broward, Florida, US\n",
            "74 FIPS 12086 Pop 2716940 State Florida Region Miami-Dade, Florida, US\n",
            "75 FIPS 12031 Pop 957755 State Florida Region Duval, Florida, US\n",
            "76 FIPS 39035 Pop 1235072 State Ohio Region Cuyahoga, Ohio, US\n",
            "77 FIPS 39061 Pop 817473 State Ohio Region Hamilton, Ohio, US\n",
            "78 FIPS 12095 Pop 1393452 State Florida Region Orange, Florida, US\n",
            "79 FIPS 48029 Pop 2003554 State Texas Region Bexar, Texas, US\n",
            "80 FIPS 13121 Pop 1063937 State Georgia Region Fulton, Georgia, US\n",
            "81 FIPS 16001 Pop 481587 State Idaho Region Ada, Idaho, US\n",
            "82 FIPS 47037 Pop 694144 State Tennessee Region Davidson, Tennessee, US\n",
            "83 FIPS 48113 Pop 2635516 State Texas Region Dallas, Texas, US\n",
            "84 FIPS 48439 Pop 2102515 State Texas Region Tarrant, Texas, US\n",
            "85 FIPS 48121 Pop 887207 State Texas Region Denton, Texas, US\n",
            "86 FIPS 48157 Pop 811688 State Texas Region Fort Bend, Texas, US\n",
            "87 FIPS 55079 Pop 945726 State Wisconsin Region Milwaukee, Wisconsin, US\n",
            "88 FIPS 53053 Pop 904980 State Washington Region Pierce, Washington, US\n",
            "89 FIPS 48201 Pop 4713325 State Texas Region Harris, Texas, US\n",
            "90 FIPS 53077 Pop 250873 State Washington Region Yakima, Washington, US\n",
            "91 FIPS 48453 Pop 1273954 State Texas Region Travis, Texas, US\n",
            "92 FIPS 49035 Pop 1160437 State Utah Region Salt Lake, Utah, US\n",
            "93 FIPS 53033 Pop 2252782 State Washington Region King, Washington, US\n",
            "94 FIPS 53061 Pop 822083 State Washington Region Snohomish, Washington, US\n",
            "95 FIPS 42069 Pop 209674 State Pennsylvania Region Lackawanna, Pennsylvania, US\n",
            "96 FIPS 45079 Pop 415759 State South Carolina Region Richland, South Carolina, US\n",
            "97 FIPS 4019 Pop 1047279 State Arizona Region Pima, Arizona, US\n",
            "98 FIPS 6075 Pop 881549 State California Region San Francisco, California, US\n",
            "99 FIPS 8041 Pop 720403 State Colorado Region El Paso, Colorado, US\n",
            "100 FIPS 8001 Pop 517421 State Colorado Region Adams, Colorado, US\n",
            "101 FIPS 12071 Pop 770577 State Florida Region Lee, Florida, US\n",
            "102 FIPS 9009 Pop 854757 State Connecticut Region New Haven, Connecticut, US\n",
            "103 FIPS 12057 Pop 1471968 State Florida Region Hillsborough, Florida, US\n",
            "104 FIPS 13089 Pop 759297 State Georgia Region DeKalb, Georgia, US\n",
            "105 FIPS 13095 Pop 87956 State Georgia Region Dougherty, Georgia, US\n",
            "106 FIPS 47157 Pop 937166 State Tennessee Region Shelby, Tennessee, US\n",
            "107 FIPS 44007 Pop 638931 State Rhode Island Region Providence, Rhode Island, US\n",
            "108 FIPS 42011 Pop 421164 State Pennsylvania Region Berks, Pennsylvania, US\n",
            "109 FIPS 46099 Pop 193134 State South Dakota Region Minnehaha, South Dakota, US\n",
            "\n",
            "\u001b[1mName   Min , Max , Norm , Mean , Std , Normed Mean , Normed Std\u001b[0m\n",
            "0 Insurance : 4.8, 47.9, 0.0232, 16.6918, 8.3646, 0.2759, 0.1941, \n",
            "1 Nbeds : 0.026, 0.1168, 11.0117, 0.0563, 0.0159, 0.3332, 0.1746, \n",
            "2 Nbeds_per1000 : 0.6764, 13.6471, 0.0771, 3.4149, 2.063, 0.2111, 0.159, \n",
            "3 Nhosp : 0.0018, 0.0061, 229.0618, 0.0034, 0.0008, 0.3827, 0.1752, \n",
            "4 Estbeds : 0.026, 0.1168, 11.0117, 0.0563, 0.0159, 0.3332, 0.1746, \n",
            "5 senior_percent : 9.9, 28.6, 0.0535, 14.8818, 2.9192, 0.2664, 0.1561, \n",
            "6 black_percent : 1.3, 70.9, 0.0144, 18.5727, 15.2632, 0.2482, 0.2193, \n",
            "7 Percenthispanics : 2.2, 69.1, 0.0149, 19.2364, 14.3492, 0.2547, 0.2145, \n",
            "8 pop_density_2010 : 22.83, 20056.94, 0.0, 1387.6508, 2564.7891, 0.0681, 0.128, \n",
            "9 poverty_percent : 4.2, 29.5, 0.0395, 13.1364, 4.5446, 0.3532, 0.1796, \n",
            "10 svi_minority : 0.4897, 0.9968, 1.972, 0.8672, 0.1104, 0.7445, 0.2177, \n",
            "11 svi_overall : 0.0255, 0.9659, 1.0634, 0.5454, 0.2192, 0.5529, 0.2331, \n",
            "12 CASTHMA : 5.9, 15.3, 0.1064, 10.0245, 1.7855, 0.4388, 0.1899, \n",
            "13 HIGHCHOL : 12.1, 39.5, 0.0365, 30.3582, 4.8034, 0.6664, 0.1753, \n",
            "14 DIABETES : 1.7, 30.0, 0.0353, 10.8609, 4.5098, 0.3237, 0.1594, \n",
            "15 OBESITY : 13.9, 49.2, 0.0283, 30.1836, 7.8449, 0.4613, 0.2222, \n",
            "16 CANCER : 1.3, 16.5, 0.0658, 5.9773, 2.1558, 0.3077, 0.1418, \n",
            "17 STROKE : 0.9, 8.7, 0.1282, 3.1191, 1.4652, 0.2845, 0.1878, \n",
            "18 MHLTH : 8.1, 24.1, 0.0625, 14.3468, 3.5426, 0.3904, 0.2214, \n",
            "19 CSMOKING : 4.8, 34.7, 0.0334, 18.3695, 6.4419, 0.4538, 0.2154, \n",
            "20 CHOLSCREEN : 50.7, 91.8, 0.0243, 77.6373, 6.3075, 0.6554, 0.1535, \n",
            "21 INSURANCE : 4.8, 47.9, 0.0232, 16.6918, 8.3646, 0.2759, 0.1941, \n",
            "22 CHD : 1.2, 18.6, 0.0575, 5.4391, 2.3036, 0.2436, 0.1324, \n",
            "23 CHECKUP : 51.0, 83.4, 0.0309, 70.2336, 6.4123, 0.5936, 0.1979, \n",
            "24 KIDNEY : 0.9, 5.9, 0.2, 2.9909, 0.8805, 0.4182, 0.1761, \n",
            "25 BINGE : 7.8, 34.1, 0.038, 17.6355, 3.8989, 0.374, 0.1482, \n",
            "26 LPA : 12.4, 47.5, 0.0285, 27.7945, 8.2875, 0.4386, 0.2361, \n",
            "27 ARTHRITIS : 4.4, 39.4, 0.0286, 22.5591, 6.6873, 0.5188, 0.1911, \n",
            "28 BPMED : 23.7, 86.0, 0.0161, 70.5682, 9.3418, 0.7523, 0.1499, \n",
            "29 PHLTH : 6.0, 23.7, 0.0565, 13.1945, 4.3777, 0.4065, 0.2473, \n",
            "30 BPHIGH : 14.1, 58.4, 0.0226, 31.1682, 8.4626, 0.3853, 0.191, \n",
            "31 COPD : 2.3, 13.0, 0.0935, 6.4682, 2.2163, 0.3895, 0.2071, \n",
            "32 norm_pop : 11.3846, 16.122, 0.2111, 13.6637, 0.7657, 0.4811, 0.1616, \n",
            "33 Cases : 0.0, 88.5268, 0.0, 0.0, 0.0, 0.0, 0.0, \n",
            "34 Death : 0.0, 30.5941, 0.0, 0.0, 0.0, 0.0, 0.0, \n",
            "\n",
            "Predicted Quantities\n",
            " Cases Day= 1 Weight 1.0 Name CasesNextday\n",
            "Deaths Day= 1 Weight 1.0 Name DeathsNextday\n",
            " Cases Day= 2 Weight 0.0714 Name Casesday2\n",
            "Deaths Day= 2 Weight 0.0714 Name Deathsday2\n",
            " Cases Day= 3 Weight 0.0714 Name Casesday3\n",
            "Deaths Day= 3 Weight 0.0714 Name Deathsday3\n",
            " Cases Day= 4 Weight 0.0714 Name Casesday4\n",
            "Deaths Day= 4 Weight 0.0714 Name Deathsday4\n",
            " Cases Day= 5 Weight 0.0714 Name Casesday5\n",
            "Deaths Day= 5 Weight 0.0714 Name Deathsday5\n",
            " Cases Day= 6 Weight 0.0714 Name Casesday6\n",
            "Deaths Day= 6 Weight 0.0714 Name Deathsday6\n",
            " Cases Day= 7 Weight 0.0714 Name Casesday7\n",
            "Deaths Day= 7 Weight 0.0714 Name Deathsday7\n",
            " Cases Day= 8 Weight 0.0714 Name Casesday8\n",
            "Deaths Day= 8 Weight 0.0714 Name Deathsday8\n",
            " Cases Day= 9 Weight 0.0714 Name Casesday9\n",
            "Deaths Day= 9 Weight 0.0714 Name Deathsday9\n",
            " Cases Day= 10 Weight 0.0714 Name Casesday10\n",
            "Deaths Day= 10 Weight 0.0714 Name Deathsday10\n",
            " Cases Day= 11 Weight 0.0714 Name Casesday11\n",
            "Deaths Day= 11 Weight 0.0714 Name Deathsday11\n",
            " Cases Day= 12 Weight 0.0714 Name Casesday12\n",
            "Deaths Day= 12 Weight 0.0714 Name Deathsday12\n",
            " Cases Day= 13 Weight 0.0714 Name Casesday13\n",
            "Deaths Day= 13 Weight 0.0714 Name Deathsday13\n",
            " Cases Day= 14 Weight 0.0714 Name Casesday14\n",
            "Deaths Day= 14 Weight 0.0714 Name Deathsday14\n",
            " Cases Day= 15 Weight 0.0714 Name Casesday15\n",
            "Deaths Day= 15 Weight 0.0714 Name Deathsday15\n",
            "Input Sequences, Locations, members sequence, input variables  (106, 110, 9, 35)\n",
            "Number of Sequences  3672900  Number of input NaN 0\n",
            "Input Sequences, Locations, Predictions per sequence (106, 110, 30)\n",
            "Number of Predictions  349800  including number of NaN (missing prediction) 52360\n"
          ],
          "name": "stdout"
        }
      ]
    },
    {
      "cell_type": "markdown",
      "metadata": {
        "id": "lprQwdZFby5Y",
        "colab_type": "text"
      },
      "source": [
        "### Other COVID setup data including dates and Associated Temporal Positional Encodings"
      ]
    },
    {
      "cell_type": "code",
      "metadata": {
        "id": "Tu9Oy46Nb4LO",
        "colab_type": "code",
        "colab": {
          "base_uri": "https://localhost:8080/",
          "height": 35
        },
        "outputId": "5ecd4ffe-86f4-4c56-d474-6a5b985b7a72"
      },
      "source": [
        "def LinearLocationEncoding(TotalLoc):\n",
        "  linear = np.empty(TotalLoc, dtype=float)\n",
        "  for i in range(0,TotalLoc):\n",
        "    linear[i] = float(i)/float(TotalLoc)\n",
        "  return linear\n",
        "\n",
        "def LinearTimeEncoding(Dateslisted):\n",
        "  Firstdate = Dateslisted[0]\n",
        "  numtofind = len(Dateslisted)\n",
        "  dayrange = (Dateslisted[numtofind-1]-Firstdate).days + 1\n",
        "  linear = np.empty(numtofind, dtype=float)\n",
        "  for i in range(0,numtofind):\n",
        "    linear[i] = float((Dateslisted[i]-Firstdate).days)/float(dayrange)\n",
        "  return linear\n",
        "\n",
        "def WeeklyTimeEncoding(Dateslisted):\n",
        "  numtofind = len(Dateslisted)\n",
        "  costheta = np.empty(numtofind, dtype=float)\n",
        "  sintheta = np.empty(numtofind, dtype=float)\n",
        "  for i in range(0,numtofind):\n",
        "    j = Dateslisted[i].date().weekday()\n",
        "    theta = float(j)*2.0*math.pi/7.0\n",
        "    costheta[i] = math.cos(theta)\n",
        "    sintheta[i] = math.sin(theta)\n",
        "  return costheta, sintheta\n",
        "\n",
        "def AnnualTimeEncoding(Dateslisted): \n",
        "  numtofind = len(Dateslisted)\n",
        "  costheta = np.empty(numtofind, dtype=float)\n",
        "  sintheta = np.empty(numtofind, dtype=float)\n",
        "  for i in range(0,numtofind):\n",
        "    runningdate = Dateslisted[i]\n",
        "    year = runningdate.year\n",
        "    datebeginyear = datetime(year, 1, 1)\n",
        "    displacement = (runningdate-datebeginyear).days\n",
        "    daysinyear = (datetime(year,12,31)-datebeginyear).days+1\n",
        "    if displacement >= daysinyear:\n",
        "      printexit(\"EXIT Bad Date \", runningdate)\n",
        "    theta = float(displacement)*2.0*math.pi/float(daysinyear)\n",
        "    costheta[i] = math.cos(theta)\n",
        "    sintheta[i] = math.sin(theta)\n",
        "  return costheta, sintheta\n",
        "\n",
        "# Dates set up in Python datetime format as Python LISTS\n",
        "# All encodings are Numpy arrays\n",
        "InitialDate = datetime(2020,2,1)\n",
        "FinalDate = datetime(2020,5,25)\n",
        "Numberofdays = (FinalDate-InitialDate).days + 1\n",
        "print(\"Total number of Days \" + str(Numberofdays))\n",
        "if Numberofdays != (Num_Seq + Tseq):\n",
        "  printexit(\"EXIT Wrong Number of days \" + str(Num_Seq + Tseq))\n",
        "\n",
        "Dateslist = []\n",
        "# add one to include predicted data of last sequence\n",
        "for i in range(0,Numberofdays+1):\n",
        "  Dateslist.append(InitialDate+timedelta(days=i))\n",
        "\n",
        "LinearoverLocationEncoding = LinearLocationEncoding(Nloc)\n",
        "LinearovertimeEncoding = LinearTimeEncoding(Dateslist)\n",
        "CosWeeklytimeEncoding, SinWeeklytimeEncoding = WeeklyTimeEncoding(Dateslist)\n",
        "CosAnnualtimeEncoding, SinAnnualtimeEncoding = AnnualTimeEncoding(Dateslist)"
      ],
      "execution_count": null,
      "outputs": [
        {
          "output_type": "stream",
          "text": [
            "Total number of Days 115\n"
          ],
          "name": "stdout"
        }
      ]
    },
    {
      "cell_type": "markdown",
      "metadata": {
        "id": "ANMrg0vjoPxS",
        "colab_type": "text"
      },
      "source": [
        "Add in Temporal Position Encoding"
      ]
    },
    {
      "cell_type": "code",
      "metadata": {
        "id": "I977Ffv_obEC",
        "colab_type": "code",
        "colab": {}
      },
      "source": [
        "addweeklyposition = True\n",
        "addlineartimeposition = True\n",
        "addlinearlocationposition = True\n",
        "NpropperseqTOT = Npropperseq\n",
        "Numberpropaddons = 0\n",
        "if addweeklyposition:\n",
        "  NpropperseqTOT +=2\n",
        "  Numberpropaddons +=2\n",
        "if addlineartimeposition:\n",
        "  NpropperseqTOT +=1\n",
        "  Numberpropaddons +=1\n",
        "  actuallineartimeposition = NpropperseqTOT-1\n",
        "if addlinearlocationposition:\n",
        "  NpropperseqTOT +=1\n",
        "  Numberpropaddons +=1\n",
        "RawInputSequencesTOT = np.empty([Num_Seq, Nloc, Tseq, NpropperseqTOT], dtype =np.float32)\n",
        "\n",
        "for i in range(0,Num_Seq):\n",
        "  for j in range(0,Nloc):\n",
        "    for k in range(0,Tseq):\n",
        "      for l in range(0,Npropperseq):\n",
        "        RawInputSequencesTOT[i,j,k,l] = RawInputSequences[i,j,k,l]\n",
        "      if addweeklyposition:\n",
        "        RawInputSequencesTOT[i,j,k,Npropperseq] = CosWeeklytimeEncoding[i+k]\n",
        "        RawInputSequencesTOT[i,j,k,Npropperseq+1] = SinWeeklytimeEncoding[i+k]\n",
        "      if addlineartimeposition:\n",
        "        RawInputSequencesTOT[i,j,k,actuallineartimeposition] = LinearovertimeEncoding[i+k]\n",
        "      if addlinearlocationposition:\n",
        "        RawInputSequencesTOT[i,j,k,NpropperseqTOT-1] = LinearoverLocationEncoding[j]\n",
        "\n",
        "Numberpredaddons = 0\n",
        "LocationPredictions = True\n",
        "if LocationPredictions:\n",
        "  Numberpredaddons = Numberpropaddons\n",
        "NpredperseqTOT = Npredperseq + Numberpredaddons\n",
        "RawInputPredictionsTOT = np.empty([Num_Seq, Nloc, NpredperseqTOT], dtype =np.float32)\n",
        "\n",
        "if LocationPredictions:\n",
        "  if addweeklyposition:\n",
        "    Predictionname.append('weeklycostheta')\n",
        "    Predictionnamelookup['weeklycostheta'] = Npredperseq\n",
        "    Predictionname.append('weeklysintheta')\n",
        "    Predictionnamelookup['weeklysintheta'] = Npredperseq+1\n",
        "  if addlineartimeposition:\n",
        "    actualposition = Npredperseq\n",
        "    if addweeklyposition:\n",
        "      actualposition +=2\n",
        "    Predictionname.append('lineartime')\n",
        "    Predictionnamelookup['lineartime'] = actualposition\n",
        "  if addlinearlocationposition:\n",
        "    Predictionname.append('linearlocationtime')\n",
        "    Predictionnamelookup['linearlocationtime'] = NpredperseqTOT-1                      \n",
        "\n",
        "for i in range(0,Num_Seq):\n",
        "  for j in range(0,Nloc):\n",
        "    for l in range(0,Npredperseq):\n",
        "      RawInputPredictionsTOT[i,j,l] = RawInputPredictions[i,j,l]\n",
        "    if LocationPredictions:\n",
        "      if addweeklyposition:\n",
        "        RawInputPredictionsTOT[i,j,Npredperseq] = CosWeeklytimeEncoding[i+Tseq]\n",
        "        RawInputPredictionsTOT[i,j,Npredperseq+1] = SinWeeklytimeEncoding[i+Tseq]\n",
        "      if addlineartimeposition:\n",
        "        RawInputPredictionsTOT[i,j,actualposition] = LinearovertimeEncoding[i+Tseq]\n",
        "      if addlinearlocationposition:\n",
        "        RawInputPredictionsTOT[i,j,NpredperseqTOT-1] = LinearoverLocationEncoding[j]\n",
        "\n"
      ],
      "execution_count": null,
      "outputs": []
    },
    {
      "cell_type": "markdown",
      "metadata": {
        "id": "6CdCNdQ_yGWV",
        "colab_type": "text"
      },
      "source": [
        "## General Control Parameters"
      ]
    },
    {
      "cell_type": "code",
      "metadata": {
        "colab_type": "code",
        "id": "bcRp7VcQ5m6g",
        "colab": {}
      },
      "source": [
        "Num_Seq_TimeandLoc = Num_Seq * Nloc\n"
      ],
      "execution_count": null,
      "outputs": []
    },
    {
      "cell_type": "code",
      "metadata": {
        "id": "4V88mmqms1pq",
        "colab_type": "code",
        "colab": {
          "base_uri": "https://localhost:8080/",
          "height": 191
        },
        "outputId": "9db6adcb-1305-4f3e-8e4f-fc234e119288"
      },
      "source": [
        "print(\"Size of sequence window Tseq \", str(Tseq))\n",
        "print(\"Number of Sequences in time Num_Seq \", str(Num_Seq))\n",
        "print(\"Number of locations Nloc \", str(Nloc))\n",
        "print(\"Number of Sequences in Location and Time\", str(Num_Seq_TimeandLoc))\n",
        "print(\"Length of each sequence Tseq \", str(Tseq))\n",
        "print(\"Number of internal properties per sequence including static or dynamic Npropperseq \", str(Npropperseq))\n",
        "print(\"Is there explicit temporal weekly encoding \" + str(addweeklyposition))\n",
        "print(\"Is there explicit temporal linear encoding \" + str(addlinearposition))\n",
        "print(\"Number of internal properties per sequence adding in explicit temporal position encoding \", str(NpropperseqTOT))\n",
        "print(\"Total number of predictions per sequence NpredperseqTOT \", str(NpredperseqTOT))"
      ],
      "execution_count": null,
      "outputs": [
        {
          "output_type": "stream",
          "text": [
            "Size of sequence window Tseq  9\n",
            "Number of Sequences in time Num_Seq  106\n",
            "Number of locations Nloc  110\n",
            "Number of Sequences in Location and Time 11660\n",
            "Length of each sequence Tseq  9\n",
            "Number of internal properties per sequence including static or dynamicNpropperseq  35\n",
            "Is there explicit temporal weekly encoding True\n",
            "Is there explicit temporal linear encoding True\n",
            "Number of internal properties per sequence adding in explicit temporal position encoding  38\n",
            "Total number of predictions per sequence Npredtotperseq  30\n"
          ],
          "name": "stdout"
        }
      ]
    },
    {
      "cell_type": "markdown",
      "metadata": {
        "id": "blSLh5R9ftlZ",
        "colab_type": "text"
      },
      "source": [
        "##Plot and Analyze DL Time Series Fits"
      ]
    },
    {
      "cell_type": "markdown",
      "metadata": {
        "id": "ikdmffIpA6AC",
        "colab_type": "text"
      },
      "source": [
        "## Useful Time series utilities"
      ]
    },
    {
      "cell_type": "code",
      "metadata": {
        "id": "1WsspqAef_yR",
        "colab_type": "code",
        "colab": {}
      },
      "source": [
        "def DLprediction(Xin, yin, DLmodel):\n",
        "  # Input is [Num_Seq] [Nloc] [Tseq] [NpropperseqTOT]\n",
        "  # Input Predictions are [Num_Seq] [NLoc] [NpredperseqTOT]\n",
        "    FitPredictions = np.zeros([Num_Seq, Nloc, NpredperseqTOT], dtype =np.float32)\n",
        "    # Compare to RawInputPredictionsTOT\n",
        "\n",
        "    RMSEbyclass = np.zeros([NpredperseqTOT], dtype=np.float64)\n",
        "    RMSVbyclass = np.zeros([NpredperseqTOT], dtype=np.float64)\n",
        "    AbsEbyclass = np.zeros([NpredperseqTOT], dtype=np.float64)\n",
        "    AbsVbyclass = np.zeros([NpredperseqTOT], dtype=np.float64)\n",
        "    ObsVbytimeandclass = np.zeros([Num_Seq, NpredperseqTOT], dtype=np.float64)\n",
        "    Predbytimeandclass = np.zeros([Num_Seq, NpredperseqTOT], dtype=np.float64)\n",
        "    count = np.zeros([NpredperseqTOT], dtype=np.float64)\n",
        "\n",
        "    for iseq in range(0, Num_Seq):\n",
        "      for iloc in range(0,Nloc):\n",
        "        xx = Xin[iseq,iloc]\n",
        "        yy = yin[iseq,iloc]\n",
        "        xx = xx.reshape(1, Tseq, NpropperseqTOT)\n",
        "        yyhat = DLmodel.predict(xx, verbose=LSTMverbose)\n",
        "        yyhat = yyhat.reshape(NpredperseqTOT)\n",
        "        FitPredictions[iseq,iloc,:] = yyhat\n",
        "        for i in range(0,NpredperseqTOT):\n",
        "          if(math.isnan(yy[i])):\n",
        "            continue\n",
        "          RMSEbyclass[i] += (yy[i]-yyhat[i])**2\n",
        "          AbsEbyclass[i] += abs(yy[i] - yyhat[i])\n",
        "          RMSVbyclass[i] += yy[i]**2\n",
        "          AbsVbyclass[i] += abs(yy[i])\n",
        "          count[i] += 1.0\n",
        "          ObsVbytimeandclass [iseq,i] += yy[i]\n",
        "          Predbytimeandclass [iseq,i] += yyhat[i]\n",
        "\n",
        "    ObsvPred = np.sum( np.abs(ObsVbytimeandclass-Predbytimeandclass) , axis=0)\n",
        "    TotalObs = np.sum( ObsVbytimeandclass , axis=0)\n",
        "    SummedEbyclass = np.divide(ObsvPred,TotalObs)\n",
        "    RMSEbyclass1 = np.sqrt(np.divide(RMSEbyclass,count))\n",
        "    RMSEbyclass2 = np.sqrt(np.divide(RMSEbyclass,RMSVbyclass))\n",
        "    RelEbyclass = np.divide(AbsEbyclass, AbsVbyclass)\n",
        "    extra = [' ',' ']\n",
        "    for i in range(0,NpredperseqTOT):\n",
        "      print('RMSE % ' +str(i) + ' ' + Predictionname[i] + ' ' + str(round(count[i],0)) + ' ' + str(round(100.0*RMSEbyclass1[i],4))  + ' ' + str(round(100.0*RMSEbyclass2[i],4))\n",
        "      + ' ' + str(round(100.0*RelEbyclass[i],4)) + ' ' + str(round(100.0*SummedEbyclass[i],4)) )\n",
        "      if i <= 1:\n",
        "        extra[i] = 'Unnormed RMSE% ' + str(round(100.0*RMSEbyclass1[i],4)) + ' Normed RMSE% ' + str(round(100.0*SummedEbyclass[i],4))\n",
        "    Location_summed_plot(yin, FitPredictions, ex_cases=extra[0], ex_deaths = extra[1])\n",
        "\n",
        "    return FitPredictions   \n",
        "\n",
        "def Location_summed_plot(Observations, FitPredictions, fill=True, ex_cases = '',ex_deaths = ''):\n",
        "    # Only deal with futures as days; plot sum over locations\n",
        "    basiclength = Num_Seq\n",
        "    predictlength = LengthFutures\n",
        "    if not UseFutures:\n",
        "        predictlength = 0\n",
        "    totallength = basiclength + predictlength\n",
        "    real = np.zeros([2,basiclength])\n",
        "    predictsmall = np.zeros([2,basiclength])\n",
        "    predict = np.zeros([2,totallength])   \n",
        "\n",
        "    \n",
        "    for casesdeaths in range(0,2):\n",
        "      for iloc in range(0,Nloc):\n",
        "        for itime in range (0,Num_Seq):\n",
        "          real[casesdeaths,itime] += Observations[itime, iloc, casesdeaths]\n",
        "          predict[casesdeaths,itime] += FitPredictions[itime, iloc, casesdeaths]\n",
        "        for ifuture in range(0,LengthFutures):\n",
        "          predict[casesdeaths,Num_Seq+ifuture] += FitPredictions[itime, iloc, casesdeaths + 2 + 2*ifuture]\n",
        "      for itime in range(0,basiclength):\n",
        "          predictsmall[casesdeaths,itime] = predict[casesdeaths,itime]\n",
        "        \n",
        "    error = np.absolute(real - predictsmall)\n",
        "    xsmall = np.arange(0,Num_Seq)\n",
        "\n",
        "    plottype = ['Cases','Fatalities']\n",
        "    plt.rcParams[\"figure.figsize\"] = [18,5]\n",
        "    figure, (ax1,ax2) = plt.subplots(nrows=1, ncols=2)\n",
        "  #  eachplt = plt\n",
        "    for iplot in range (0,2):\n",
        "      eachplt = ax1\n",
        "      if iplot == 1:\n",
        "        eachplt = ax2\n",
        "      sumreal = 0.0\n",
        "      sumerror = 0.0\n",
        "      for itime in range(0,Num_Seq):\n",
        "        sumreal += abs(real[iplot,itime])\n",
        "        sumerror += error[iplot,itime]\n",
        "      c_error = round(100.0*sumerror/sumreal,2)\n",
        "\n",
        "      eachplt.plot(predict[iplot,:], label='prediction')\n",
        "      eachplt.plot(real[iplot,:], label=f'real')\n",
        "      eachplt.plot(error[iplot,:], label=f'error', color=\"red\")\n",
        "\n",
        "      if fill:\n",
        "          eachplt.fill_between(xsmall, predictsmall[iplot,:], real[iplot,:], alpha=0.1, color=\"grey\")\n",
        "          eachplt.fill_between(xsmall, error[iplot,:], alpha=0.05, color=\"red\")\n",
        "\n",
        "      extrastring = ex_cases\n",
        "      if iplot == 1:\n",
        "        extrastring = ex_deaths\n",
        "    #  extrastring = f\"Length={Num_Seq}, Cumulative Results {plottype[iplot]},  error={c_error}% \" + extrastring\n",
        "      extrastring = f\"Length={Num_Seq}, Cumulative Results {plottype[iplot]}, \" + extrastring\n",
        "      eachplt.set_title(extrastring)\n",
        "      eachplt.set_xlabel(\"Days\")\n",
        "      eachplt.set_ylabel(plottype[iplot])\n",
        "      eachplt.grid(True)\n",
        "      eachplt.legend()\n",
        "    figure.tight_layout()\n",
        "    plt.show()\n"
      ],
      "execution_count": null,
      "outputs": []
    },
    {
      "cell_type": "code",
      "metadata": {
        "id": "lJylkkL9AvsV",
        "colab_type": "code",
        "colab": {}
      },
      "source": [
        "def custom_lossGCF1(y_actual,y_pred):\n",
        "    flagGCF = tf.math.is_nan(y_actual)\n",
        "    y_actual = y_actual[tf.math.logical_not(flagGCF)]\n",
        "    y_pred = y_pred[tf.math.logical_not(flagGCF)]\n",
        "    tensordiff = tf.math.square(y_actual-y_pred)\n",
        "    return tf.math.reduce_mean(tensordiff)\n",
        "    \n",
        "def custom_lossGCF4(y_actual,y_pred):\n",
        "    tensordiff = y_actual-y_pred\n",
        "    newtensordiff = tf.where(tf.math.is_nan(tensordiff), tf.zeros_like(tensordiff), tensordiff)\n",
        "    return tf.math.reduce_mean(tf.math.square(newtensordiff))"
      ],
      "execution_count": null,
      "outputs": []
    },
    {
      "cell_type": "code",
      "metadata": {
        "id": "OIB3yMlo7kFI",
        "colab_type": "code",
        "colab": {}
      },
      "source": [
        "def shuffleDLinput(Xin,yin):\n",
        "  np.random.seed(int.from_bytes(os.urandom(4), byteorder='little'))\n",
        "\n",
        "  trainingorder = list(range(0, len(Xin)))\n",
        "  random.shuffle(trainingorder)\n",
        "  Xinternal = list()\n",
        "  yinternal = list()\n",
        "  for i in trainingorder:\n",
        "    Xinternal.append(Xin[i])\n",
        "    yinternal.append(yin[i])\n",
        "  X = np.array(Xinternal)\n",
        "  y = np.array(yinternal)\n",
        "  return X, y\n",
        "\n",
        "def finalizeDL(ActualModel, ActualmodelResult, usedvalidationfrac, X_in, y_in):\n",
        "\n",
        "  histlen = len(ActualmodelResult.history['loss'])\n",
        "\n",
        "  trainloss = ActualmodelResult.history['loss'][histlen-1]\n",
        "  plt.rcParams[\"figure.figsize\"] = [8,4]\n",
        "  plt.plot(ActualmodelResult.history['loss'])\n",
        "  if usedvalidationfrac > 0.001:\n",
        "    valloss = ActualmodelResult.history['val_loss'][histlen-1]\n",
        "    plt.plot(ActualmodelResult.history['val_loss'])\n",
        "  else:\n",
        "    valloss = 0.0\n",
        "  plt.title('model loss ' + str(round(trainloss,6)) + ' Val ' + str(round(valloss,6)))\n",
        "  plt.ylabel('loss')\n",
        "  plt.xlabel('epoch')\n",
        "  plt.legend(['train', 'val'], loc='upper left')\n",
        "  plt.show()\n",
        "\n",
        "  FitPredictions = DLprediction(X_in, y_in,ActualModel)\n",
        "  return\n"
      ],
      "execution_count": null,
      "outputs": []
    },
    {
      "cell_type": "markdown",
      "metadata": {
        "id": "rMIeYApPybFA",
        "colab_type": "text"
      },
      "source": [
        "# Standalone LSTM Model"
      ]
    },
    {
      "cell_type": "markdown",
      "metadata": {
        "id": "33FLmGmcilz5",
        "colab_type": "text"
      },
      "source": [
        "## LSTM Control Parameters"
      ]
    },
    {
      "cell_type": "code",
      "metadata": {
        "id": "Ds28euHRi5vt",
        "colab_type": "code",
        "colab": {}
      },
      "source": [
        "UseFutures = True\n",
        "CustomLoss = 1         # Can be 0 1 4\n",
        "UseClassweights = True\n",
        "LengthFutures = int(round((Npredperseq-2)/2))\n",
        "\n",
        "\n",
        "if(Npredperseq <=2):\n",
        "  useFutures = False\n",
        "  CustomLoss = 0\n",
        "  UseClassweights = False\n",
        "\n",
        "number_of_LSTMworkers = 1\n",
        "LSTMepochs = 200\n",
        "LSTMbatch_size = 110\n",
        "\n",
        "LSTMactivationvalue = \"selu\"\n",
        "LSTMrecurrent_activation = \"sigmoid\"\n",
        "LSTMoptimizer = 'adam'\n",
        "LSTMdropout1=0.2\n",
        "LSTMrecurrent_dropout1 = 0.2\n",
        "LSTMdropout2=0.2\n",
        "LSTMrecurrent_dropout2 = 0.2\n",
        "number_LSTMnodes= 16\n",
        "LSTMFinalMLP = 64\n",
        "LSTMInitialMLP = 32\n",
        "LSTMThirdLayer = False\n",
        "\n",
        "LSTMverbose = 0\n",
        "LSTMvalidationfrac = 0.2\n",
        "bestmethod = 2\n",
        "if LSTMvalidationfrac < 0.001:\n",
        "    bestmethod = 1\n",
        " "
      ],
      "execution_count": null,
      "outputs": []
    },
    {
      "cell_type": "markdown",
      "metadata": {
        "id": "ToZJjmB2DWc2",
        "colab_type": "text"
      },
      "source": [
        "## LSTM Utilities and code"
      ]
    },
    {
      "cell_type": "code",
      "metadata": {
        "id": "wRlpZa-8cl4M",
        "colab_type": "code",
        "colab": {}
      },
      "source": [
        "def checkNaN(y):\n",
        "  countNaN = 0\n",
        "  countnotNaN = 0\n",
        "  for i in range(0,y.shape[0]):\n",
        "      for j in range(0,y.shape[1]):\n",
        "          if(np.math.isnan(y[i,j])):\n",
        "              countNaN += 1\n",
        "          else:\n",
        "              countnotNaN += 1\n",
        "  percent = (100.0*countNaN)/(countNaN + countnotNaN)\n",
        "  print(' is NaN ',str(countNaN),' percent ',str(round(percent,2)),' not NaN ', str(countnotNaN))\n",
        "    \n",
        "def get_model_summary(model):  \n",
        "  stream = io.StringIO()\n",
        "  model.summary(print_fn=lambda x: stream.write(x + '\\n'))\n",
        "  summary_string = stream.getvalue()\n",
        "  stream.close()\n",
        "  return summary_string\n",
        "\n",
        "def setLSTMinput():\n",
        "  # Initial data is Flatten([Num_Seq][Nloc]) [Tseq] with values [Nprop-Sel + Nforcing + Add(ExPosEnc-Selin)] starting with   RawInputSequencesTOT\n",
        "  # Predictions are Flatten([Num_Seq] [Nloc]) [Predvals=Npred+ExPosEnc-Selout] [Predtimes = Forecast-time range] starting with RawInputPredictionsTOT\n",
        "  X_predict = RawInputSequencesTOT.reshape(Num_Seq_TimeandLoc,Tseq,NpropperseqTOT)\n",
        "  y_predict = RawInputPredictionsTOT.reshape(Num_Seq_TimeandLoc,NpredperseqTOT)\n",
        "  return X_predict, y_predict\n",
        "\n",
        "def InitializeLSTM(message,processindex,y_predict):\n",
        "  if( processindex == 0 ):\n",
        "      print(message + \" Window Size \", Tseq, \" Number of samples over time that sequence starts at and location:\", Num_Seq_TimeandLoc, \n",
        "            \"Number input features per sequence:\", NpropperseqTOT, \n",
        "            \"Number of predicted outputs per sequence:\", NpredperseqTOT, \n",
        "            \"batch_size:\", LSTMbatch_size, \n",
        "            \"n_nodes:\", number_LSTMnodes, \n",
        "            \"epochs:\", LSTMepochs)\n",
        "      checkNaN(y_predict)"
      ],
      "execution_count": null,
      "outputs": []
    },
    {
      "cell_type": "code",
      "metadata": {
        "id": "Hh1D1xxEszcu",
        "colab_type": "code",
        "colab": {}
      },
      "source": [
        "class MyLSTMmodel(tf.keras.Model):\n",
        "  def __init__(self, **kwargs):\n",
        "    super(MyLSTMmodel, self).__init__(**kwargs)\n",
        "    self.fullLSTM = MyLSTMlayer()\n",
        "\n",
        "  def call(self, inputs):  \n",
        "    outputs = self.fullLSTM(inputs)\n",
        "    return outputs\n",
        "\n",
        "class MyLSTMlayer(tf.keras.layers.Layer):\n",
        "# Class for a simple multiple layer LSTM with FCN at start and end\n",
        "# All parameters defined externally\n",
        "# structured so MyLSTMlayer can be used standalone or in part of a transformer\n",
        "\n",
        "  def __init__(self, **kwargs):\n",
        "    super(MyLSTMlayer, self).__init__(**kwargs)\n",
        "    self.dense_1 = tf.keras.layers.Dense(LSTMInitialMLP, activation=LSTMactivationvalue)\n",
        "    self.LSTM_1 =tf.keras.layers.LSTM(number_LSTMnodes, recurrent_dropout= LSTMrecurrent_dropout1, dropout = LSTMdropout1,\n",
        "                  activation= LSTMactivationvalue , return_sequences=True, recurrent_activation= LSTMrecurrent_activation)\n",
        "    self.LSTM_2 =tf.keras.layers.LSTM(number_LSTMnodes, recurrent_dropout= LSTMrecurrent_dropout1, dropout = LSTMdropout1,\n",
        "        activation= LSTMactivationvalue , return_sequences=LSTMThirdLayer, recurrent_activation= LSTMrecurrent_activation)\n",
        "    if(LSTMThirdLayer):\n",
        "      self.LSTM_3 =tf.keras.layers.LSTM(number_LSTMnodes, recurrent_dropout= LSTMrecurrent_dropout1, dropout = LSTMdropout1,\n",
        "                    activation= LSTMactivationvalue , return_sequences=False, recurrent_activation= LSTMrecurrent_activation)\n",
        "    self.dense_2 = tf.keras.layers.Dense(LSTMFinalMLP, activation=LSTMactivationvalue)\n",
        "    self.dense_f = tf.keras.layers.Dense(NpredperseqTOT)\n",
        "\n",
        "  def call(self, inputs):\n",
        "    if(LSTMInitialMLP > 0):\n",
        "      Runningdata = self.dense_1(inputs)\n",
        "      Runningdata = self.LSTM_1(Runningdata)\n",
        "    else:\n",
        "      Runningdata = self.LSTM_1(inputs)\n",
        "    Runningdata = self.LSTM_2(Runningdata)\n",
        "    if(LSTMThirdLayer):\n",
        "      Runningdata = self.LSTM_3(Runningdata)\n",
        "    if(LSTMFinalMLP > 0):\n",
        "      Runningdata = self.dense_2(Runningdata)\n",
        "    Outputdata = self.dense_f(Runningdata)\n",
        "    return Outputdata\n"
      ],
      "execution_count": null,
      "outputs": []
    },
    {
      "cell_type": "code",
      "metadata": {
        "id": "r3Tp0VAn-orp",
        "colab_type": "code",
        "colab": {}
      },
      "source": [
        "def RunLSTMClassVersion():\n",
        "  # Run the LSTM model defined by Model and Layer class\n",
        "\n",
        "\n",
        "  X_predict, y_predict = setLSTMinput()\n",
        "  InitializeLSTM('Class Version ',processindex,y_predict)\n",
        "\n",
        "  X_train, y_train = shuffleDLinput(X_predict, y_predict)\n",
        "\n",
        "  myLSTMmodel = MyLSTMmodel(name ='myLSTMmodel')\n",
        "  if CustomLoss == 0:\n",
        "      myLSTMmodel.compile(loss='mse', optimizer= LSTMoptimizer)\n",
        "  if CustomLoss == 1:\n",
        "      myLSTMmodel.compile(loss= custom_lossGCF1, optimizer= LSTMoptimizer)\n",
        "  if CustomLoss == 4:    \n",
        "      myLSTMmodel.compile(loss= custom_lossGCF4, optimizer= LSTMoptimizer)\n",
        "\n",
        "  the_callbacks = [TqdmCallback(),]\n",
        "\n",
        "  if UseClassweights:   \n",
        "      cw = {}\n",
        "      for i in range(0,NpredperseqTOT):\n",
        "        cw[i] = Predictionwgt[i]     \n",
        "      modelresult = myLSTMmodel.fit(X_train, y_train,\n",
        "            epochs=LSTMepochs,\n",
        "            batch_size=LSTMbatch_size,\n",
        "            class_weight = cw,\n",
        "            verbose=LSTMverbose,\n",
        "            validation_split=LSTMvalidationfrac,\n",
        "            callbacks=the_callbacks\n",
        "            )\n",
        "  else:\n",
        "      modelresult = myLSTMmodel.fit(X_train, y_train,\n",
        "            epochs=LSTMepochs,\n",
        "            batch_size=LSTMbatch_size,\n",
        "            verbose=LSTMverbose,\n",
        "            validation_split=LSTMvalidationfrac,\n",
        "            callbacks=the_callbacks\n",
        "            ) \n",
        "  myLSTMmodel.summary()\n",
        "  finalizeDL(myLSTMmodel,modelresult,LSTMvalidationfrac,RawInputSequencesTOT, RawInputPredictionsTOT)\n",
        "  return\n"
      ],
      "execution_count": null,
      "outputs": []
    },
    {
      "cell_type": "code",
      "metadata": {
        "id": "C-KKpE09yyow",
        "colab_type": "code",
        "colab": {
          "base_uri": "https://localhost:8080/",
          "height": 1000,
          "referenced_widgets": [
            "9edf5e6a10c344b3b9906c48dc59ede8",
            "afc7fca89d1d4b608095233fa729aa37",
            "195b5150ea5d473c82c15044b39f20e6",
            "b6c0dcf1d8a24c38ae896553a58a7d9f",
            "af70ebe247e74160a9dcce7d5b276c59",
            "b326b64fc150444482500e8d8e7b43e2",
            "e81b6ac1d12e4c4fbcc37ed47df0880e",
            "b0d8251d8f714823b2246a99d2787444",
            "531d198d0895483192e7b9867a5ca6fe",
            "ff2ebe43fb534362893ad45d6b469692",
            "130ecfb87b344d479c7fe478196a359a",
            "9bd8d74c03454e28a5e996a9708b1313",
            "65b9877d7b2b48f39bebe928e57bbdc2",
            "840e4a9b2c0448038caa919733dc2c73",
            "fc9a6365e7dd40d1817a7012ba1379c5",
            "0efd48e69e954497b5dd68239b8ef33d"
          ]
        },
        "outputId": "65e1ce93-c470-4ed4-ac6e-53e56d6cac6b"
      },
      "source": [
        "def StandaloneLSTM():\n",
        "# run pure LSTM with no attention (transformer) with simple Keras sequential model\n",
        "\n",
        "  X_predict, y_predict = setLSTMinput()\n",
        "  X_train, y_train = shuffleDLinput(X_predict, y_predict)\n",
        "\n",
        "  # n_timesteps=n_steps_in=Tseq, \n",
        "  # n_features= NpropperseqTOT,  \n",
        "  # n_outputs = NpredperseqTOT       \n",
        "  InitializeLSTM('Keras Sequential Version ',processindex,y_predict)\n",
        "\n",
        "  # define model\n",
        "  StandaloneLSTMmodel = Sequential()\n",
        "  \n",
        "  if(LSTMInitialMLP > 0):\n",
        "      StandaloneLSTMmodel.add(Dense(LSTMInitialMLP, activation=LSTMactivationvalue, input_shape=(Tseq,NpropperseqTOT)))\n",
        "      nextround = LSTMInitialMLP\n",
        "  else:\n",
        "      nextround = NpropperseqTOT\n",
        "\n",
        "  StandaloneLSTMmodel.add(LSTM(number_LSTMnodes, recurrent_dropout= LSTMrecurrent_dropout1, dropout = LSTMdropout1,\n",
        "                  activation= LSTMactivationvalue , return_sequences=True, recurrent_activation= LSTMrecurrent_activation,\n",
        "                  input_shape=(Tseq, nextround)))\n",
        "\n",
        "  if(LSTMThirdLayer):\n",
        "      StandaloneLSTMmodel.add(LSTM(number_LSTMnodes, recurrent_dropout= LSTMrecurrent_dropout2, dropout = LSTMdropout2,\n",
        "                  activation= LSTMactivationvalue , return_sequences=True, recurrent_activation= LSTMrecurrent_activation,\n",
        "                  input_shape=(Tseq, number_LSTMnodes)))\n",
        "      StandaloneLSTMmodel.add(LSTM(number_LSTMnodes, recurrent_dropout= LSTMrecurrent_dropout2, dropout = LSTMdropout2,\n",
        "                      activation= LSTMactivationvalue , recurrent_activation=LSTMrecurrent_activation,\n",
        "                      input_shape=(Tseq, number_LSTMnodes)))\n",
        "  else:\n",
        "      StandaloneLSTMmodel.add(LSTM(number_LSTMnodes, recurrent_dropout= LSTMrecurrent_dropout2, dropout = LSTMdropout2,\n",
        "              activation= LSTMactivationvalue, recurrent_activation=LSTMrecurrent_activation,\n",
        "              input_shape=(Tseq, number_LSTMnodes)))\n",
        "      \n",
        "  if(LSTMFinalMLP > 0):\n",
        "      StandaloneLSTMmodel.add(Dense(LSTMFinalMLP, activation=LSTMactivationvalue))\n",
        "  StandaloneLSTMmodel.add(Dense(NpredperseqTOT))\n",
        "  \n",
        "  if CustomLoss == 0:\n",
        "      StandaloneLSTMmodel.compile(loss='mse', optimizer= LSTMoptimizer)\n",
        "  if CustomLoss == 1:\n",
        "      StandaloneLSTMmodel.compile(loss= custom_lossGCF1, optimizer= LSTMoptimizer)\n",
        "  if CustomLoss == 4:    \n",
        "      StandaloneLSTMmodel.compile(loss= custom_lossGCF4, optimizer= LSTMoptimizer)\n",
        "\n",
        "  modelsummarystring = get_model_summary(StandaloneLSTMmodel)\n",
        "  if( processindex == 0 ):\n",
        "      print(modelsummarystring)\n",
        "\n",
        "  the_callbacks = [TqdmCallback(),]\n",
        "  if UseClassweights:   \n",
        "      cw = {}\n",
        "      for i in range(0,NpredperseqTOT):\n",
        "        cw[i] = Predictionwgt[i]     \n",
        "      modelresult = StandaloneLSTMmodel.fit(X_train, y_train,\n",
        "            epochs=LSTMepochs,\n",
        "            batch_size=LSTMbatch_size,\n",
        "            class_weight = cw,\n",
        "            verbose=LSTMverbose,\n",
        "            validation_split=LSTMvalidationfrac,\n",
        "            callbacks=the_callbacks\n",
        "            )\n",
        "  else:\n",
        "      modelresult = StandaloneLSTMmodel.fit(X_train, y_train,\n",
        "            epochs=LSTMepochs,\n",
        "            batch_size=LSTMbatch_size,\n",
        "            verbose=LSTMverbose,\n",
        "            validation_split=LSTMvalidationfrac,\n",
        "            callbacks=the_callbacks\n",
        "            )  \n",
        "  finalizeDL(StandaloneLSTMmodel, modelresult, LSTMvalidationfrac,RawInputSequencesTOT, RawInputPredictionsTOT)\n",
        "  return\n",
        "\n",
        "# RUN PURE LSTM\n",
        "processindex = 0\n",
        "standaloneLSTMrun = False\n",
        "ClassLSTMrun = True\n",
        "if standaloneLSTMrun:\n",
        "  StandaloneLSTM()\n",
        "if ClassLSTMrun:\n",
        "  RunLSTMClassVersion()\n",
        "if standaloneLSTMrun or ClassLSTMrun:\n",
        "  sys.exit(0)"
      ],
      "execution_count": null,
      "outputs": [
        {
          "output_type": "stream",
          "text": [
            "Class Version  Window Size  9  Number of samples over time that sequence starts at and locatin: 11660 Number input features per sequence: 38 Number of predicted outputs per sequence: 30 batch_size: 110 n_nodes: 16 epochs: 200\n",
            " is NaN  52360  percent  14.97  not NaN  297440\n"
          ],
          "name": "stdout"
        },
        {
          "output_type": "display_data",
          "data": {
            "application/vnd.jupyter.widget-view+json": {
              "model_id": "9edf5e6a10c344b3b9906c48dc59ede8",
              "version_minor": 0,
              "version_major": 2
            },
            "text/plain": [
              "HBox(children=(FloatProgress(value=1.0, bar_style='info', max=1.0), HTML(value='')))"
            ]
          },
          "metadata": {
            "tags": []
          }
        },
        {
          "output_type": "display_data",
          "data": {
            "application/vnd.jupyter.widget-view+json": {
              "model_id": "531d198d0895483192e7b9867a5ca6fe",
              "version_minor": 0,
              "version_major": 2
            },
            "text/plain": [
              "HBox(children=(FloatProgress(value=1.0, bar_style='info', max=1.0), HTML(value='')))"
            ]
          },
          "metadata": {
            "tags": []
          }
        },
        {
          "output_type": "stream",
          "text": [
            "\n",
            "Model: \"myLSTMmodel\"\n",
            "_________________________________________________________________\n",
            "Layer (type)                 Output Shape              Param #   \n",
            "=================================================================\n",
            "my_lst_mlayer (MyLSTMlayer)  multiple                  9534      \n",
            "=================================================================\n",
            "Total params: 9,534\n",
            "Trainable params: 9,534\n",
            "Non-trainable params: 0\n",
            "_________________________________________________________________\n"
          ],
          "name": "stdout"
        },
        {
          "output_type": "display_data",
          "data": {
            "image/png": "[encoded data removed]",
            "text/plain": [
              "<Figure size 576x288 with 1 Axes>"
            ]
          },
          "metadata": {
            "tags": [],
            "needs_background": "light"
          }
        },
        {
          "output_type": "stream",
          "text": [
            "RMSE % 0 CasesNextday 11660.0 2.775 27.2302 24.9874 5.9164\n",
            "RMSE % 1 DeathsNextday 11660.0 3.0649 40.0507 48.3444 13.2418\n",
            "RMSE % 2 Casesday2 11220.0 2.8211 27.1557 24.8287 6.1597\n",
            "RMSE % 3 Deathsday2 11220.0 3.103 39.7761 52.6015 16.64\n",
            "RMSE % 4 Casesday3 11000.0 2.8427 27.0937 24.6903 5.6836\n",
            "RMSE % 5 Deathsday3 11000.0 3.1161 39.5508 48.6563 12.4822\n",
            "RMSE % 6 Casesday4 10780.0 2.8708 27.0868 24.8039 5.532\n",
            "RMSE % 7 Deathsday4 10780.0 3.1606 39.7119 48.1993 12.8719\n",
            "RMSE % 8 Casesday5 10560.0 2.9046 27.125 25.1315 6.5207\n",
            "RMSE % 9 Deathsday5 10560.0 3.181 39.5587 47.9454 10.8307\n",
            "RMSE % 10 Casesday6 10340.0 2.9499 27.2592 25.9392 8.4192\n",
            "RMSE % 11 Deathsday6 10340.0 3.2072 39.4661 47.3169 10.7375\n",
            "RMSE % 12 Casesday7 10120.0 2.9474 26.945 24.9913 6.0464\n",
            "RMSE % 13 Deathsday7 10120.0 3.2443 39.4966 47.7883 11.8382\n",
            "RMSE % 14 Casesday8 9900.0 2.9888 27.0241 24.8475 5.4751\n",
            "RMSE % 15 Deathsday8 9900.0 3.2779 39.469 47.4861 11.1851\n",
            "RMSE % 16 Casesday9 9680.0 3.0245 27.0423 24.708 5.1971\n",
            "RMSE % 17 Deathsday9 9680.0 3.3374 39.7362 47.2068 11.4629\n",
            "RMSE % 18 Casesday10 9460.0 3.0772 27.1983 25.5281 6.7136\n",
            "RMSE % 19 Deathsday10 9460.0 3.3454 39.3774 47.2052 10.4033\n",
            "RMSE % 20 Casesday11 9240.0 3.1622 27.6236 25.3422 7.0205\n",
            "RMSE % 21 Deathsday11 9240.0 3.4191 39.7746 49.4697 13.4922\n",
            "RMSE % 22 Casesday12 9020.0 3.1504 27.1917 24.6783 4.8892\n",
            "RMSE % 23 Deathsday12 9020.0 3.4672 39.8525 47.4149 10.4714\n",
            "RMSE % 24 Casesday13 8800.0 3.216 27.4184 24.9247 5.9647\n",
            "RMSE % 25 Deathsday13 8800.0 3.4715 39.4131 46.9039 9.9903\n",
            "RMSE % 26 Casesday14 8580.0 3.2851 27.658 25.2226 6.952\n",
            "RMSE % 27 Deathsday14 8580.0 3.5349 39.63 48.3609 11.336\n",
            "RMSE % 28 Casesday15 8360.0 3.3188 27.5829 24.9872 6.2884\n",
            "RMSE % 29 Deathsday15 8360.0 3.5854 39.6795 48.0092 10.4862\n"
          ],
          "name": "stdout"
        },
        {
          "output_type": "display_data",
          "data": {
            "image/png": "[encoded data removed]",
            "text/plain": [
              "<Figure size 1296x360 with 2 Axes>"
            ]
          },
          "metadata": {
            "tags": [],
            "needs_background": "light"
          }
        },
        {
          "output_type": "error",
          "ename": "SystemExit",
          "evalue": "ignored",
          "traceback": [
            "An exception has occurred, use %tb to see the full traceback.\n",
            "\u001b[0;31mSystemExit\u001b[0m\n"
          ]
        },
        {
          "output_type": "stream",
          "text": [
            "/usr/local/lib/python3.6/dist-packages/IPython/core/interactiveshell.py:2890: UserWarning: To exit: use 'exit', 'quit', or Ctrl-D.\n",
            "  warn(\"To exit: use 'exit', 'quit', or Ctrl-D.\", stacklevel=1)\n"
          ],
          "name": "stderr"
        }
      ]
    },
    {
      "cell_type": "code",
      "metadata": {
        "id": "2gFtsSx4h6MD",
        "colab_type": "code",
        "colab": {
          "base_uri": "https://localhost:8080/",
          "height": 243
        },
        "outputId": "364bb4e1-b03a-4821-ead7-fb269ee68712"
      },
      "source": [
        "print('Are futures predicted ' + str(UseFutures) + ' Custom Loss Pointer ' + str(CustomLoss) + ' Class weights used ' + str(UseClassweights))\n",
        "print('Predictions per sequence ' + str(NpredperseqTOT))\n",
        "print('Number of LSTMworkers ' + str(number_of_LSTMworkers))\n",
        "print('Number of epochs for each LSTMworker ' + str(LSTMepochs))\n",
        "print('Batch size for LSTM ' + str(LSTMbatch_size))\n",
        "print('LSTM Activation Method ' + str(LSTMactivationvalue))\n",
        "print('LSTM recurrent Activation method ' + str(LSTMrecurrent_activation))\n",
        "print('LSTM Optimizer ' + str(LSTMoptimizer))\n",
        "print('LSTM Dropout Layer 1 ' +str(LSTMdropout1) + 'LSTM Recurrent Dropout Layer 1 ' +str(LSTMrecurrent_dropout1) + 'LSTM Dropout Layer >= 2 ' +str(LSTMdropout2) + 'LSTM Recurrent Dropout Layer >=2 ' +str(LSTMrecurrent_dropout2))\n",
        "print('Number of hidden LSTM nodes ' + str(number_LSTMnodes) + ' Is there a third LSTM layer? ' + str(LSTMThirdLayer))\n",
        "print('LSTM Initial Embedding layer ' + str(LSTMInitialMLP) + ' Final LSTM Layer ' + str(LSTMFinalMLP))\n",
        "print('LSTM Verbose Option ' + str(LSTMverbose))\n",
        "print('LSTM Validation Fraction ' +str(LSTMvalidationfrac) + ' Method to chose best solution '+ str(bestmethod))"
      ],
      "execution_count": null,
      "outputs": [
        {
          "output_type": "stream",
          "text": [
            "Are futures predicted True Custom Loss Pointer 1 Class weights used True\n",
            "Predictions per sequence 30\n",
            "Number of LSTMworkers 1\n",
            "Number of epochs for each LSTMworker 200\n",
            "Batch size for LSTM 110\n",
            "LSTM Activation Method selu\n",
            "LSTM recurrent Activation method sigmoid\n",
            "LSTM Optimizer adam\n",
            "LSTM Dropout Layer 1 0.2LSTM Recurrent Dropout Layer 1 0.2LSTM Dropout Layer >= 2 0.2LSTM Recurrent Dropout Layer >=2 0.2\n",
            "Number of hidden LSTM nodes 16 Is there a third LSTM layer? False\n",
            "LSTM Initial Embedding layer 32 Final LSTM Layer 64\n",
            "LSTM Verbose Option 0\n",
            "LSTM Validation Fraction 0.2 Method to chose best solution 2\n"
          ],
          "name": "stdout"
        }
      ]
    },
    {
      "cell_type": "markdown",
      "metadata": {
        "id": "eGzOGTRnbJZ-",
        "colab_type": "text"
      },
      "source": [
        "# Setting up the Transformer for COVID"
      ]
    },
    {
      "cell_type": "markdown",
      "metadata": {
        "id": "0_uUU6V6bYzA",
        "colab_type": "text"
      },
      "source": [
        "Other data from LSTM defining COVID problem"
      ]
    },
    {
      "cell_type": "markdown",
      "metadata": {
        "id": "wkI2rG-n41sf",
        "colab_type": "text"
      },
      "source": [
        "\n",
        "\n",
        "The original had a BUFFERSIZE removed\n",
        "\n",
        "Compared to original with a single sequence label and dimension, inp_seq_len or d_sample, we have two sequence labels\n",
        "\n",
        "iseq = range(0..Tseq) time\n",
        "\n",
        "iloc = range(0..Nloc) sample location"
      ]
    },
    {
      "cell_type": "markdown",
      "metadata": {
        "colab_type": "text",
        "id": "dJFhD-nq0fO0"
      },
      "source": [
        "## Important Parameters defining Transformer project"
      ]
    },
    {
      "cell_type": "code",
      "metadata": {
        "id": "oOxm7gWkyjIj",
        "colab_type": "code",
        "colab": {}
      },
      "source": [
        "Transformerbatch_size = 2\n",
        "Transformervalidationfrac = 0.0\n",
        "Transformerepochs = 100\n",
        "Transformeroptimizer ='adam'\n",
        "Transformerverbose = 0\n",
        "TransformerFullAttention = False\n",
        "d_model =128\n",
        "d_Attention = 2 * d_model\n",
        "if TransformerFullAttention:\n",
        "  d_Attention = d_model\n",
        "num_heads = 4\n",
        "num_Encoderlayers = 4\n",
        "EncoderDropout= 0.1\n",
        "EncoderActivation = 'selu'\n",
        "d_EncoderLayer = d_Attention\n",
        "d_merge = d_model\n",
        "d_ffn = 4*d_model\n",
        "MaskingOption = 0\n",
        "PeriodicInputTemporalEncoding = 7 # natural for COVID\n",
        "LinearInputTemporalEncoding = -1 # natural for COVID\n",
        "TransformerInputTemporalEncoding = 10000\n",
        "UseTransformerInputTemporalEncoding = False"
      ],
      "execution_count": null,
      "outputs": []
    },
    {
      "cell_type": "code",
      "metadata": {
        "id": "bEaGePMdYXwf",
        "colab_type": "code",
        "colab": {}
      },
      "source": [
        "# Output parameters used in this Science Transformer\n",
        "\n",
        "print(\"Batch size of stochastic gradient descent Transformerbatch_size \", str(Transformerbatch_size))\n",
        "print(\"Fraction used for a validation dataset \", str(Transformervalidationfrac))\n",
        "print(\"Dimension of value embedding for every input [Model1] d_model \", str(d_model))\n",
        "print(\"Dimension of value embedding for input to Decoder (LSTM) \", str(d_merge))\n",
        "print(\"Number of Attention Heads which must exactly divide d_model, num_heads \", str(num_heads))\n",
        "print(\"Number of layers in Encoder stage num_Encoderlayers \", str(num_Encoderlayers))\n",
        "print(\"Dropout in Encoder stage, EncoderDropout \", str(EncoderDropout))\n",
        "print(\"Size of Encoder stage, d_EncoderLayer \", str(d_EncoderLayer))\n",
        "print(\"Activation in Encoder Stage EncoderActivation \",str(EncoderActivation))\n",
        "print(\"Size of feedforward network in each encoder layer. It appears to be 4 * d_model, d_ffn \", str(d_ffn))\n",
        "print(\"Defines masking used; = 0 none; =1 mask the future MaskingOption \", str(MaskingOption))\n",
        "print(\"Defines use of periodic time encoding; =0 none; > 0 use time encoding with this period [ 7 weekly, 365 annual). Note this added as a property of each input (actually two as cos-theta and sin-theta), PeriodicInputTemporalEncoding \", str(PeriodicInputTemporalEncoding))\n",
        "print(\"Defines use of linear time encoding; =0 none; =-1 make linear over full time range. Note this added as a single property of each input, LinearInputTemporalEncoding \", str(LinearInputTemporalEncoding))\n",
        "print(\"Defines structure of Transformer-style time encoding; =0 none; > 0 use time encoding with this base (10000 in transformer example) TransformerInputTemporalEncoding \", str(TransformerInputTemporalEncoding))\n",
        "print(\"Defines use of Transformer-style time encoding; UseTransformerInputTemporalEncoding \", str(UseTransformerInputTemporalEncoding))\n"
      ],
      "execution_count": null,
      "outputs": []
    },
    {
      "cell_type": "markdown",
      "metadata": {
        "id": "Xm7X3Ww23_Ta",
        "colab_type": "text"
      },
      "source": [
        "***Num_Seq*** Number of Sequences\n",
        "\n",
        "***Nloc*** Number of locations\n",
        "\n",
        "***Tseq*** Length of each sequence\n",
        "\n",
        "***Npropperseq*** Number of internal properties per sequence including static or dynamic\n",
        "\n",
        "***NpredperseqTOT*** Total number of predictions per sequence\n",
        "\n",
        "***d_model*** Dimension of value embedding for every input [Model1] \n",
        "\n",
        "***num_heads*** Number of Attention Heads which must exactly divide ***d_model***\n",
        "\n",
        "***num_Encoderlayers*** Number of layers in Encoder stage\n",
        "\n",
        "***EncoderDropout*** Dropout in Encoder stage, \n",
        "\n",
        "***d_ffn*** Size of feedforward network in each encoder layer. It appears to bet to be 4 * ***d_model*** \n",
        "\n",
        "***MaskingOption*** defines masking used; = 0 none; =1 mask the future\n",
        "\n",
        "***PeriodicInputTemporalEncoding*** defines use of periodic time encoding; =0 none; > 0 use time encoding with this period [ 7 weekly, 365 annual). Note this added as a property of each input (actually two as cos-theta and sin-theta)\n",
        "\n",
        "***LinearInputTemporalEncoding*** defines use of linear time encoding; =0 none; =-1 make linear over full time range. Note this added as a single property of each input\n",
        "\n",
        "***TransformerInputTemporalEncoding*** defines use of Transformer-style time encoding; =0 none; > 0 use time encoding with this base (10000 in transformer example)\n",
        "\n",
        "***Transformerbatch_size*** is batch size of stochastic gradient descent\n",
        "\n",
        "***Tseq*** is size of sequence window\n",
        "\n",
        "***Transformervalidationfrac*** is fraction used for a validation dataset\n",
        "\n",
        "***d_sample*** The number of units presented to the Transformer which could be dynamic. Each of these inputs is used to calculate attention and is Tseq times number of locations simultaneously presented\n",
        "\n",
        "***max_d_sample*** The maximum number of units presented to the Transformer which is fixed. It is Tseq times maximum number of locations simultaneously presented\n",
        "\n",
        "***TransformerFullAttention*** if True calculate classic attention over all d_sample members; if False calculate separate attentions in location and time"
      ]
    },
    {
      "cell_type": "markdown",
      "metadata": {
        "id": "UCZ_vAQZnOSA",
        "colab_type": "text"
      },
      "source": [
        "Describe the science data sets here\n",
        "\n",
        "Initial data is [Num_Seq][Nloc][Tseq] with values [Nforcing + ExPosEnc-Selin + Nprop-Sel]\n",
        "\n",
        "Predictions are [Num_Seq] [Nloc] [Predvals=Npred+ExPosEnc-Selout] [Predtimes = Forecast-time range]\n",
        "\n",
        "A subset is included in each transformer call. There are 3 options\n",
        "*   Simplest: (as in LSTM) samples are labelled by [Num_Seq] [Nloc] and have input length [Tseq] with multiple features [Nforcing + ExPosEnc-Selin + Nprop-Sel] mapped into a model for each input of length [Model1]. Predictions for each input are [Predvals] [Predtimes]\n",
        "*   Straightforward improvement:  Divide Nloc into sublocation groups giving Nloc/Nsub groups with Nloc-Nsub locations in each group. There are many choices of groups including fixed disjoint subgroups, overlapping groups (so that each epoch surveys each location twice and this should help spread attention). Then each sample is labelled by [Num_Seq] [Nloc/Nsub] and have input length [Nloc-Nsub][Tseq] with multiple features [Nforcing + ExPosEnc-Selin + Nprop-Sel] mapped into a model for each input of length [Model1]. Predictions for each input are [Predvals] [Predtimes]\n",
        "*   (Too) Clever: Use different selections for Encoder and Decoder steps. For example feed all Nloc locations into transformer but oinly use through multi-headed attention step. One only takes a subset of these through encoder and predictions. This ensures that attention covers all locations\n",
        "*   Extend \"Too clever\"  or \"Straightforward\" method for multiple initial time values in each transformer input i.e. divide [Num_Seq] into [Num_Seq/Ntsub] groups and input [Num_Seq-Ntsub] time sequences into a single transformer. This spreads attention over time. \n",
        "\n",
        "We can represent all the above cases by lasbelling each data sample by\n",
        "{[Num_Seq][Nloc]} [Tseq] where always members of sequences are complete and selection of sequences and location for a single data sample varies in options above. Each member of a data sample has [Nforcing + ExPosEnc-Selin + Nprop-Sel] internal degrees of freedom. These degrees of freedom will be mapped (embedded) in a model variable of length ***d_model***\n",
        "\n",
        "Size of input is ***d_sample*** = Tseq * size {[Num_Seq][Nloc]} in a single data sample. This is important throughout network whereas [Nforcing + ExPosEnc-Selin + Nprop-Sel] is immediately embedded and becomes of length ***d_model***\n",
        "\n",
        "\n",
        "\n",
        "\n",
        "\n"
      ]
    },
    {
      "cell_type": "code",
      "metadata": {
        "id": "vsYiyg_6c-U3",
        "colab_type": "code",
        "colab": {}
      },
      "source": [
        "# Set up data\n",
        "# Initial data is [For Batching][Nloc_sample] [Tseq] [NpropperseqTOT] starting with RawInputSequencesTOT\n",
        "# Predictions are [For Batching][Nloc_sample] [NpredperseqTOT] starting with RawInputPredictionsTOT\n",
        "#  For case Nloc_sample = Nloc, the Batching is identical to Time sequence label\n",
        "# dsample Tseq * Nloc\n",
        "\n",
        "Nloc_sample = Nloc\n",
        "Num_Seq_TimeandLoc = Num_seq\n",
        "if Nloc%Nloc_sample != 0:\n",
        "  print(\"Inconsistent location numbers \" + str(Nloc) + ' ' + str(Nloc_sample))\n",
        "  sys.exit()\n",
        "d_sample = Tseq * Nloc\n",
        "max_d_sample = d_sample\n",
        "Transformermaximum_position_encoding = max_d_sample\n",
        "X_Transformerdetailed = numpy.copy(RawInputSequencesTOT)\n",
        "y_Transformerdetailed = numpy.copy(RawInputPredictionsTOT)\n",
        "X_Transformerflat = numpy.reshape(X_Transformerdetailed, (Num_Seq_TimeandLoc, d_sample, NpropperseqTOT))\n",
        "y_Transformerflat = numpy.reshape(y_Transformerdetailed, (Num_Seq_TimeandLoc, Nloc, NpredperseqTOT))\n",
        "\n",
        "# We need to shuffle for training data but unshuffled (unflattened) data will be used in evaluation\n",
        "X_predict, y_predict = shuffleDLinput(X_Transformerflat, y_Transformerflat)\n",
        "\n",
        "print(\"The maximum number of units presented to the Transformer which is fixed.It is Tseq times maximum number of locations simultaneously presented \", str(max_d_sample))\n",
        "print(\"The actual number of units presented to the Transformer for this batch.It is Tseq times  number of locations simultaneously presented in  this batch \", str(max_d_sample))\n",
        "print(\" Number of locations in each sample presented to the Transformer \", str(Nloc_sample))\n",
        "print(\"Number of locations times sequence window length in each sample presented to the Transformer \", str(Num_Seq_TimeandLoc))"
      ],
      "execution_count": null,
      "outputs": []
    },
    {
      "cell_type": "markdown",
      "metadata": {
        "colab_type": "text",
        "id": "nBQuibYA4n0n"
      },
      "source": [
        "## Positional encoding Text and Code\n",
        "\n",
        "Since this model doesn't contain any recurrence or convolution, positional encoding is added to give the model some information about the relative position of the words in the sentence. \n",
        "\n",
        "The positional encoding vector is added to the embedding vector. Embeddings represent a token in a d-dimensional space where tokens with similar meaning will be closer to each other. But the embeddings do not encode the relative position of words in a sentence. So after adding the positional encoding, words will be closer to each other based on the *similarity of their meaning and their position in the sentence*, in the d-dimensional space.\n",
        "\n",
        "See the notebook on [positional encoding](https://github.com/tensorflow/examples/blob/master/community/en/position_encoding.ipynb) to learn more about it. The formula for calculating the positional encoding is as follows:\n",
        "\n",
        "$$\\Large{PE_{(pos, 2i)} = sin(pos / 10000^{2i / d_{model}})} $$\n",
        "$$\\Large{PE_{(pos, 2i+1)} = cos(pos / 10000^{2i / d_{model}})} $$"
      ]
    },
    {
      "cell_type": "markdown",
      "metadata": {
        "id": "HmiB1vED2GIv",
        "colab_type": "text"
      },
      "source": [
        "I am not certain if Science wants this type of encoding and/or the positional coding controlled by ***PeriodicInputTemporalEncoding*** and\n",
        "***LinearInputTemporalEncoding***.\n",
        "\n",
        "***TransformerInputTemporalEncoding*** controls this. TransformerInputTemporalEncoding = 10000  will give example given here\n",
        "\n",
        "The base 10000 needs study but otherwise we use this function below later-on\n",
        "\n",
        "The Blogs/papers on BERT have discussion of more sophisticated multi-sentence encoding in BERT\n",
        "\n",
        "Also another Blog questions why this encoding added rather that being concatenated"
      ]
    },
    {
      "cell_type": "code",
      "metadata": {
        "colab_type": "code",
        "id": "WhIOZjMNKujn",
        "colab": {}
      },
      "source": [
        "def get_angles(pos, i, d_model):\n",
        "  angle_rates = 1 / np.power(TransformerInputTemporalEncoding, (2 * (i//2)) / np.float32(d_model))\n",
        "  return pos * angle_rates"
      ],
      "execution_count": null,
      "outputs": []
    },
    {
      "cell_type": "code",
      "metadata": {
        "colab_type": "code",
        "id": "1Rz82wEs5biZ",
        "colab": {}
      },
      "source": [
        "def positional_encoding(position, d_model):\n",
        "  angle_rads = get_angles(np.arange(position)[:, np.newaxis],\n",
        "                          np.arange(d_model)[np.newaxis, :],\n",
        "                          d_model)\n",
        "  \n",
        "  # apply sin to even indices in the array; 2i\n",
        "  angle_rads[:, 0::2] = np.sin(angle_rads[:, 0::2])\n",
        "  \n",
        "  # apply cos to odd indices in the array; 2i+1\n",
        "  angle_rads[:, 1::2] = np.cos(angle_rads[:, 1::2])\n",
        "    \n",
        "  pos_encoding = angle_rads[np.newaxis, ...]\n",
        "    \n",
        "  return tf.cast(pos_encoding, dtype=tf.float32)"
      ],
      "execution_count": null,
      "outputs": []
    },
    {
      "cell_type": "code",
      "metadata": {
        "colab_type": "code",
        "id": "1kLCla68EloE",
        "colab": {}
      },
      "source": [
        "pos_encoding = positional_encoding(max_d_sample, 512)\n",
        "print (pos_encoding.shape)\n",
        "\n",
        "plt.pcolormesh(pos_encoding[0], cmap='RdBu')\n",
        "plt.xlabel('Depth')\n",
        "plt.xlim((0, 512))\n",
        "plt.ylabel('Position')\n",
        "plt.colorbar()\n",
        "plt.show()\n",
        "if not UseTransformerInputTemporalEncoding:\n",
        "  print(startbold + 'Classic Transformer Encoding not used' +resetfonts)"
      ],
      "execution_count": null,
      "outputs": []
    },
    {
      "cell_type": "markdown",
      "metadata": {
        "colab_type": "text",
        "id": "a_b4ou4TYqUN"
      },
      "source": [
        "## Masking Text and Code"
      ]
    },
    {
      "cell_type": "markdown",
      "metadata": {
        "id": "hLziWUNR3u_F",
        "colab_type": "text"
      },
      "source": [
        "Masking could be used in time. Basic logic similar between science and NLP. There will be no masking in location.\n",
        "\n",
        "Use flag ***MaskingOption*** to define masking used; = 0 none; =1 mask the future\n",
        "\n",
        "Note use of NaN to indicate undefined predicted values. That must be handled in loss function."
      ]
    },
    {
      "cell_type": "markdown",
      "metadata": {
        "colab_type": "text",
        "id": "s42Uydjkv0hF"
      },
      "source": [
        "Mask all the pad tokens in the batch of sequence. It ensures that the model does not treat padding as the input. The mask indicates where pad value `0` is present: it outputs a `1` at those locations, and a `0` otherwise."
      ]
    },
    {
      "cell_type": "code",
      "metadata": {
        "colab_type": "code",
        "id": "U2i8-e1s8ti9",
        "colab": {}
      },
      "source": [
        "def create_padding_mask(seq):\n",
        "  seq = tf.cast(tf.math.equal(seq, 0), tf.float32)\n",
        "  \n",
        "  # add extra dimensions to add the padding\n",
        "  # to the attention logits.\n",
        "  return seq[:, tf.newaxis, tf.newaxis, :]  # (batch_size, 1, 1, seq_len)"
      ],
      "execution_count": null,
      "outputs": []
    },
    {
      "cell_type": "code",
      "metadata": {
        "colab_type": "code",
        "id": "A7BYeBCNvi7n",
        "colab": {}
      },
      "source": [
        "x = tf.constant([[7, 6, 0, 0, 1], [1, 2, 3, 0, 0], [0, 0, 0, 4, 5]])\n",
        "create_padding_mask(x)"
      ],
      "execution_count": null,
      "outputs": []
    },
    {
      "cell_type": "markdown",
      "metadata": {
        "colab_type": "text",
        "id": "Z0hzukDBgVom"
      },
      "source": [
        "The look-ahead mask is used to mask the future tokens in a sequence. In other words, the mask indicates which entries should not be used.\n",
        "\n",
        "This means that to predict the third word, only the first and second word will be used. Similarly to predict the fourth word, only the first, second and the third word will be used and so on."
      ]
    },
    {
      "cell_type": "code",
      "metadata": {
        "colab_type": "code",
        "id": "dVxS8OPI9uI0",
        "colab": {}
      },
      "source": [
        "def create_look_ahead_mask(size):\n",
        "  mask = 1 - tf.linalg.band_part(tf.ones((size, size)), -1, 0)\n",
        "  return mask  # (seq_len, seq_len)"
      ],
      "execution_count": null,
      "outputs": []
    },
    {
      "cell_type": "code",
      "metadata": {
        "colab_type": "code",
        "id": "yxKGuXxaBeeE",
        "colab": {}
      },
      "source": [
        "x = tf.random.uniform((1, 3))\n",
        "temp = create_look_ahead_mask(x.shape[1])\n",
        "\n",
        "if MaskingOption == 0:\n",
        "  print(startbold + 'Classic Transformer Masking not used' +resetfonts)\n"
      ],
      "execution_count": null,
      "outputs": []
    },
    {
      "cell_type": "markdown",
      "metadata": {
        "colab_type": "text",
        "id": "xluDl5cXYy4y"
      },
      "source": [
        "## Scaled dot product attention for Science"
      ]
    },
    {
      "cell_type": "markdown",
      "metadata": {
        "id": "xoaxZAH4ZQCJ",
        "colab_type": "text"
      },
      "source": [
        "This seems unchanged for science case unless ***d_sample*** is too large. One wastes time then if softmaxes too small. It could be useful just to select the largest (e.g. take top 10 or remove all probabilities < 0.001) softmax values and just process with these\n",
        "\n",
        "Below all vectors Q K V have size ***d_model/num_heads***. They are defined for each head and for each sample member of the ***d_sample*** members\n",
        "\n",
        "This could use the  mask described earlier but that is not used in initial version\n",
        "\n",
        "We have a hierarchial sequence label which limits number of softmaxes calculated although number of Q K V vectors are not reduced"
      ]
    },
    {
      "cell_type": "markdown",
      "metadata": {
        "id": "hVc8GEGgJNc2",
        "colab_type": "text"
      },
      "source": [
        "## Scaled dot product attention: Q K V Softmax"
      ]
    },
    {
      "cell_type": "markdown",
      "metadata": {
        "id": "at4BqdMkqJYb",
        "colab_type": "text"
      },
      "source": [
        "### Discussion and Science version"
      ]
    },
    {
      "cell_type": "markdown",
      "metadata": {
        "colab_type": "text",
        "id": "vsxEE_-Wa1gF"
      },
      "source": [
        "<img src=\"https://www.tensorflow.org/images/tutorials/transformer/scaled_attention.png\" width=\"500\" alt=\"scaled_dot_product_attention\">\n",
        "\n",
        "The attention function used by the transformer takes three inputs: Q (query), K (key), V (value). The equation used to calculate the attention weights is:\n",
        "\n",
        "$$\\Large{Attention(Q, K, V) = softmax_k(\\frac{QK^T}{\\sqrt{d_k}}) V} $$\n",
        "\n",
        "The dot-product attention is scaled by a factor of square root of the depth. This is done because for large values of depth, the dot product grows large in magnitude pushing the softmax function where it has small gradients resulting in a very hard softmax. \n",
        "\n",
        "For example, consider that `Q` and `K` have a mean of 0 and variance of 1. Their matrix multiplication will have a mean of 0 and variance of `dk`. Hence, *square root of `dk`* is used for scaling (and not any other number) because the matmul of `Q` and `K` should have a mean of 0 and variance of 1, and you get a gentler softmax.\n",
        "\n",
        "The mask is multiplied with -1e9 (close to negative infinity). This is done because the mask is summed with the scaled matrix multiplication of Q and K and is applied immediately before a softmax. The goal is to zero out these cells, and large negative inputs to softmax are near zero in the output."
      ]
    },
    {
      "cell_type": "code",
      "metadata": {
        "colab_type": "code",
        "id": "LazzUq3bJ5SH",
        "colab": {}
      },
      "source": [
        "def scaled_dot_product_attention(q, k, v, mask):\n",
        "  # Needs externally defined  Num_heads, d_sample, Nloc_sample, Tseq, d_model\n",
        "  # Calculates depth\n",
        "  \"\"\"\n",
        "  Calculate the attention weights after Q K V found\n",
        "  q, k, v must have matching leading dimensions.\n",
        "  k, v must have matching penultimate dimension, i.e.: seq_len_k = seq_len_v.\n",
        "  The mask has different shapes depending on its type(padding or look ahead) \n",
        "  but it must be broadcastable for addition.\n",
        "  \n",
        "  Args:\n",
        "    q: query shape == (..., seq_len_q, depth)\n",
        "    k: key shape == (..., seq_len_k, depth)\n",
        "    v: value shape == (..., seq_len_v, depth_v)\n",
        "    mask: Float tensor with shape broadcastable \n",
        "          to (..., seq_len_q, seq_len_k). Defaults to None.\n",
        "\n",
        "In the science Transformer, Q K V are all Batch, Num_heads, d_sample, depth\n",
        "where Q K V all have same number of samples d_sample\n",
        "depth is always d_model/num heads\n",
        "\n",
        "d_sample is really [Nloc_sample][Tseq] and calculates separate Location and Time Attention\n",
        "\n",
        "Original returned attention weights but ignored. We do NOT return but rather return two attention vectors in Location and Time\n",
        "If TransformerFullAttention specified, it returns  traditional full attention vector\n",
        "  Returns:\n",
        "    AttentionVector1 concatenated with AttentionVector2\n",
        "  \"\"\"\n",
        "  # To scale matmul_qk\n",
        "  depth = tf.shape(k)[-1]\n",
        "  dk = tf.cast(depth, tf.float32) # dk is depth in all methods\n",
        "\n",
        "  if TransformerFullAttention:\n",
        "    matmul_qk = tf.matmul(q, k, transpose_b=True)  # [Batch, Num_heads, d_sample, depth] [Batch, Num_heads, (d_sample, depth)T ]\n",
        "    scaled_attention_logits = matmul_qk / tf.math.sqrt(dk) # [Batch, Num_heads, d_sample, dsample]\n",
        "\n",
        "    # add the mask to the scaled tensor.\n",
        "    if mask is not None:\n",
        "      scaled_attention_logits += (mask * -1e9)  \n",
        "\n",
        "    # softmax is normalized on the last axis (seq_len_k = d_sample) so that the scores add up to 1.\n",
        "    attention_weights = tf.nn.softmax(scaled_attention_logits, axis=-1)  # scaled_attention_logits [Batch, Num_heads, d_sample, d_sample] \n",
        "\n",
        "    AttentionVectorfull = tf.matmul(attention_weights, v)  # [Batch, Num_heads, d_sample, d_sample] [Batch, Num_heads, d_sample, depth]\n",
        "    AttentionVectortemp = tf.transpose(AttentionVectorfull, perm = [0,2,1,3]) # [Batch,  d_sample, Num_heads, depth]\n",
        "    AttentionVector = tf.reshape(AttentionVector1time, [q.shape[0],d_sample, d_model]) # restore shape\n",
        "\n",
        "else:\n",
        "  # Calculate Attention in Time. This requires no reordering and so can be redone with shape\n",
        "  # Note matmul works for all number of indices and multiplication is only done on last 2 indices so using qtime means we look at attention with location fixed\n",
        "  # No mask used with this\n",
        "  qtime = tf.reshape(q, [q.shape[0], Num_heads, Nloc_sample, Tseq, depth ])\n",
        "  ktime = tf.reshape(k, [k.shape[0], Num_heads, Nloc_sample, Tseq, depth ])\n",
        "  vtime = tf.reshape(v, [v.shape[0], Num_heads, Nloc_sample, Tseq, depth ])\n",
        "  matmul_qk = tf.matmul(qtime, ktime, transpose_b=True)  # [Batch, Num_heads, Nloc_sample, Tseq, depth] [Batch, Num_heads, Nloc_sample, (Tseq, depth)T ]\n",
        "  scaled_attention_logits = matmul_qk / tf.math.sqrt(dk) # [Batch, Num_heads, Nloc_sample, Tseq, Tseq]\n",
        "\n",
        "  # softmax is normalized on the last axis (Tseq) so that the scores add up to 1 in time direction separately for each space.\n",
        "  attention_weights = tf.nn.softmax(scaled_attention_logits, axis=-1)  # scaled_attention_logits [Batch, Num_heads, Nloc_sample, Tseq, Tseq] \n",
        "\n",
        "  AttentionVector1time = tf.matmul(attention_weights, vtime)  # [Batch, Num_heads, Nloc_sample, Tseq, Tseq] [Batch, Num_heads,  Nloc_sample, Tseq, depth] becomes [Batch, Num_heads, Nloc_sample, Tseq, depth]\n",
        "  AttentionVector1temp = tf.transpose(AttentionVector1time, perm = [0,2,3,1,4]) # [Batch,  Nloc_sample, Tseq, Num_heads, depth]\n",
        "  AttentionVector1 = tf.reshape(AttentionVectortemp, [q.shape[0],d_sample, d_model]) # restore shape\n",
        "\n",
        "# Code below rewrites arrays\n",
        "  qspace = tf.transpose(qtime, perm = [0,1,3,2,4]) # [Batch, Num_heads, Tseq, Nloc_sample,  depth]\n",
        "  kspace = tf.transpose(ktime, perm = [0,1,3,2,4]) # [Batch, Num_heads, Tseq, Nloc_sample,  depth]\n",
        "  vspace = tf.transpose(vtime, perm = [0,1,3,2,4]) # [Batch, Num_heads, Tseq, Nloc_sample,  depth]\n",
        "  matmul_qk = tf.matmul(qspace, kspace, transpose_b=True)  # [Batch, Num_heads, Tseq, Nloc_sample, depth] [Batch, Num_heads, Tseq, (Nloc_sample, depth)T ]\n",
        "  scaled_attention_logits = matmul_qk / tf.math.sqrt(dk) # [Batch, Num_heads, Tseq, Nloc_sample, Nloc_sample]\n",
        "\n",
        "  # softmax is normalized on the last axis (Nloc_sample) so that the scores add up to 1 in location direction separately for each space.\n",
        "  attention_weights = tf.nn.softmax(scaled_attention_logits, axis=-1)  # scaled_attention_logits [Batch, Num_heads, Tseq, Nloc_sample,  Nloc_sample] \n",
        "\n",
        "  AttentionVector2space = tf.matmul(attention_weights, vspace)  # [Batch, Num_heads, Tseq, Nloc_sample,  Nloc_sample] [Batch, Num_heads, Tseq, Nloc_sample,  depth] becomes [Batch, Num_heads, Tseq, Nloc_sample,  depth]\n",
        "  AttentionVector2temp = tf.transpose(AttentionVector2space, perm = [0,3,2,1,4]) # [Batch,  Nloc_sample, Tseq, Num_heads, depth]\n",
        "  AttentionVector2 = tf.reshape(AttentionVector2temp, [q.shape[0], d_sample, d_model ]) # restore shape\n",
        "\n",
        "  AttentionVector = tf.concat([AttentionVector1,AttentionVector2], -1) # [Batch, d_sample,2*d_model =d_Attention] \n",
        "\n",
        "return AttentionVector # [Batch, Num_heads, d_sample,depth] or [Batch, Num_heads, d_sample,2*depth] "
      ],
      "execution_count": null,
      "outputs": []
    },
    {
      "cell_type": "markdown",
      "metadata": {
        "id": "VCSKp3Pkp89l",
        "colab_type": "text"
      },
      "source": [
        "### scaled_dot_product_attention Example"
      ]
    },
    {
      "cell_type": "markdown",
      "metadata": {
        "colab_type": "text",
        "id": "FiqETnhCkoXh"
      },
      "source": [
        "As the softmax normalization is done on K, its values decide the amount of importance given to Q.\n",
        "\n",
        "The output represents the multiplication of the attention weights and the V (value) vector. This ensures that the words you want to focus on are kept as-is and the irrelevant words are flushed out."
      ]
    },
    {
      "cell_type": "code",
      "metadata": {
        "colab_type": "code",
        "id": "n90YjClyInFy",
        "colab": {}
      },
      "source": [
        "def print_out(q, k, v):\n",
        "  save = TransformerFullAttention\n",
        "  TransformerFullAttention = True\n",
        "  temp_out, = scaled_dot_product_attention(\n",
        "      q, k, v, None)\n",
        "  print ('Output is:')\n",
        "  print (temp_out)\n",
        "  TransformerFullAttention =  save"
      ],
      "execution_count": null,
      "outputs": []
    },
    {
      "cell_type": "code",
      "metadata": {
        "colab_type": "code",
        "id": "yAzUAf2DPlNt",
        "colab": {}
      },
      "source": [
        "np.set_printoptions(suppress=True)\n",
        "\n",
        "temp_k = tf.constant([[10,0,0],\n",
        "                      [0,10,0],\n",
        "                      [0,0,10],\n",
        "                      [0,0,10]], dtype=tf.float32)  # (4, 3)\n",
        "\n",
        "temp_v = tf.constant([[   1,0],\n",
        "                      [  10,0],\n",
        "                      [ 100,5],\n",
        "                      [1000,6]], dtype=tf.float32)  # (4, 2)\n",
        "\n",
        "# This `query` aligns with the second `key`,\n",
        "# so the second `value` is returned.\n",
        "temp_q = tf.constant([[0, 10, 0]], dtype=tf.float32)  # (1, 3)\n",
        "print_out(temp_q, temp_k, temp_v)"
      ],
      "execution_count": null,
      "outputs": []
    },
    {
      "cell_type": "code",
      "metadata": {
        "colab_type": "code",
        "id": "zg6k-fGhgXra",
        "colab": {}
      },
      "source": [
        "# This query aligns with a repeated key (third and fourth), \n",
        "# so all associated values get averaged.\n",
        "temp_q = tf.constant([[0, 0, 10]], dtype=tf.float32)  # (1, 3)\n",
        "print_out(temp_q, temp_k, temp_v)"
      ],
      "execution_count": null,
      "outputs": []
    },
    {
      "cell_type": "code",
      "metadata": {
        "colab_type": "code",
        "id": "UAq3YOzUgXhb",
        "colab": {}
      },
      "source": [
        "# This query aligns equally with the first and second key, \n",
        "# so their values get averaged.\n",
        "temp_q = tf.constant([[10, 10, 0]], dtype=tf.float32)  # (1, 3)\n",
        "print_out(temp_q, temp_k, temp_v)"
      ],
      "execution_count": null,
      "outputs": []
    },
    {
      "cell_type": "markdown",
      "metadata": {
        "colab_type": "text",
        "id": "aOz-4_XIhaTP"
      },
      "source": [
        "Pass all the queries together."
      ]
    },
    {
      "cell_type": "code",
      "metadata": {
        "colab_type": "code",
        "id": "6dlU8Tm-hYrF",
        "colab": {}
      },
      "source": [
        "temp_q = tf.constant([[0, 0, 10], [0, 10, 0], [10, 10, 0]], dtype=tf.float32)  # (3, 3)\n",
        "print_out(temp_q, temp_k, temp_v)"
      ],
      "execution_count": null,
      "outputs": []
    },
    {
      "cell_type": "markdown",
      "metadata": {
        "id": "8MIKxBremkTX",
        "colab_type": "text"
      },
      "source": [
        "## **Multi-head attention for Science**"
      ]
    },
    {
      "cell_type": "markdown",
      "metadata": {
        "id": "sgd3H0AVrueX",
        "colab_type": "text"
      },
      "source": [
        "Multi-head attention should be identical between Science ad NLP \n",
        "\n",
        "Note assertion that ***num_heads*** divides ***d_model***\n",
        "\n",
        "The annotation has seq_len and similar notations which is ***d_sample***\n",
        "\n",
        "***depth*** is calculated. It is number of words in each instance of Q, K, V for one head. Note that Q, K, V are concatenated over heads for efficient computation\n",
        "\n",
        "We suggest possibility of doing attention not across all d_sample inputs but rather separately in time and in location. This is implemented in \"Scaled Dot Product Attention\"\n",
        "\n",
        "We also allow d_Attention final size to be different from input d_model. Further we put correction of splitting into \"Scaled Dot Product Attention\" as it is naturally combined with other tensor reshape/transformations"
      ]
    },
    {
      "cell_type": "markdown",
      "metadata": {
        "id": "O9TpHjS8sHup",
        "colab_type": "text"
      },
      "source": [
        "### Multi-head Attention Discussion and Science version"
      ]
    },
    {
      "cell_type": "markdown",
      "metadata": {
        "colab_type": "text",
        "id": "fz5BMC8Kaoqo"
      },
      "source": [
        "<img src=\"https://www.tensorflow.org/images/tutorials/transformer/multi_head_attention.png\" width=\"500\" alt=\"multi-head attention\">\n",
        "\n",
        "\n",
        "Multi-head attention consists of four parts:\n",
        "*    Linear layers and split into heads.\n",
        "*    Scaled dot-product attention.\n",
        "*    Concatenation of heads.\n",
        "*    Final linear layer."
      ]
    },
    {
      "cell_type": "markdown",
      "metadata": {
        "colab_type": "text",
        "id": "JPmbr6F1C-v_"
      },
      "source": [
        "Each multi-head attention block gets three inputs; Q (query), K (key), V (value). These are put through linear (Dense) layers and split up into multiple heads. \n",
        "\n",
        "The `scaled_dot_product_attention` defined above is applied to each head (broadcasted for efficiency). An appropriate mask must be used in the attention step.  The attention output for each head is then concatenated (using `tf.transpose`, and `tf.reshape`) and put through a final `Dense` layer.\n",
        "\n",
        "Instead of one single attention head, Q, K, and V are split into multiple heads because it allows the model to jointly attend to information at different positions from different representational spaces. After the split each head has a reduced dimensionality, so the total computation cost is the same as a single head attention with full dimensionality."
      ]
    },
    {
      "cell_type": "code",
      "metadata": {
        "colab_type": "code",
        "id": "BSV3PPKsYecw",
        "colab": {}
      },
      "source": [
        "class MultiHeadAttention(tf.keras.layers.Layer):\n",
        "  # Feed in d_model, num_heads. Nothing assumed. Other sizes implied by tensors\n",
        "  # seq_len = seq_len_q = seq_len_k= seq_len_v below is d_sample\n",
        "\n",
        "  def __init__(self, d_model, num_heads):\n",
        "    super(MultiHeadAttention, self).__init__()\n",
        "    self.num_heads = num_heads\n",
        "    self.d_model = d_model\n",
        "    \n",
        "    assert self.d_model % self.num_heads == 0\n",
        "    \n",
        "    self.depth = d_model // self.num_heads\n",
        "    \n",
        "    self.wq = tf.keras.layers.Dense(d_model)\n",
        "    self.wk = tf.keras.layers.Dense(d_model)\n",
        "    self.wv = tf.keras.layers.Dense(d_model)\n",
        "    if d_model != d_Attention:\n",
        "      self.wq2 = tf.keras.layers.Dense(d_model)\n",
        "      self.wk2 = tf.keras.layers.Dense(d_model)\n",
        "      self.wv2 = tf.keras.layers.Dense(d_model)\n",
        "\n",
        "    self.finaldense = tf.keras.layers.Dense(d_Attention)\n",
        "        \n",
        "  def split_heads(self, x, batch_size):\n",
        "    \"\"\"Split the last dimension into (num_heads, depth).\n",
        "    Transpose the result such that the shape is (batch_size, num_heads, seq_len, depth)\n",
        "    \"\"\"\n",
        "    x = tf.reshape(x, (batch_size, -1, self.num_heads, self.depth))\n",
        "    return tf.transpose(x, perm=[0, 2, 1, 3])\n",
        "    \n",
        "  def call(self, v, k, q, mask):\n",
        "    batch_size = tf.shape(q)[0]\n",
        "\n",
        "    if tf.shape(q)[-1] == d_model:  \n",
        "      q = self.wq(q)  # (batch_size, seq_len, d_model)\n",
        "      k = self.wk(k)  # (batch_size, seq_len, d_model)\n",
        "      v = self.wv(v)  # (batch_size, seq_len, d_model)\n",
        "    else:\n",
        "      q = self.wq2(q)  # (batch_size, seq_len, d_model)\n",
        "      k = self.wk2(k)  # (batch_size, seq_len, d_model)\n",
        "      v = self.wv2(v)  # (batch_size, seq_len, d_model)\n",
        "\n",
        "    q = self.split_heads(q, batch_size)  # (batch_size, num_heads, seq_len_q, depth)\n",
        "    k = self.split_heads(k, batch_size)  # (batch_size, num_heads, seq_len_k, depth)\n",
        "    v = self.split_heads(v, batch_size)  # (batch_size, num_heads, seq_len_v, depth)\n",
        "    \n",
        "    # scaled_attention.shape == (batch_size,  seq_len_q, d_Attention)\n",
        "    concat_attention = scaled_dot_product_attention(q, k, v, mask)\n",
        "\n",
        "    output = self.finaldense(concat_attention)  # (batch_size, seq_len_q, d_Attention)\n",
        "    return output"
      ],
      "execution_count": null,
      "outputs": []
    },
    {
      "cell_type": "markdown",
      "metadata": {
        "id": "5prBlqE3qh0I",
        "colab_type": "text"
      },
      "source": [
        "### MultiHeadAttention Example"
      ]
    },
    {
      "cell_type": "markdown",
      "metadata": {
        "colab_type": "text",
        "id": "0D8FJue5lDyZ"
      },
      "source": [
        "Create a `MultiHeadAttention` layer to try out. At each location in the sequence, `y`, the `MultiHeadAttention` runs all 8 attention heads across all other locations in the sequence, returning a new vector of the same length at each location."
      ]
    },
    {
      "cell_type": "code",
      "metadata": {
        "colab_type": "code",
        "id": "Hu94p-_-2_BX",
        "colab": {}
      },
      "source": [
        "temp_mha = MultiHeadAttention(d_model=512, num_heads=8)\n",
        "y = tf.random.uniform((1, 60, 512))  # (batch_size, encoder_sequence, d_model)\n",
        "out = temp_mha(y, k=y, q=y, mask=None)\n",
        "out.shape"
      ],
      "execution_count": null,
      "outputs": []
    },
    {
      "cell_type": "markdown",
      "metadata": {
        "colab_type": "text",
        "id": "RdDqGayx67vv"
      },
      "source": [
        "## **Point wise feed forward network** (Original and Science)"
      ]
    },
    {
      "cell_type": "markdown",
      "metadata": {
        "id": "Ag3IZpbu5aPe",
        "colab_type": "text"
      },
      "source": [
        "This is used in encoder (each) layer and the decoder.  The activation layer could be 'relu' or 'selu'.\n",
        "\n",
        "dff in code is our parameter ***d_ffn*** (size of first layer in feef forward network) and defaults to 4 * ***d_model***"
      ]
    },
    {
      "cell_type": "markdown",
      "metadata": {
        "colab_type": "text",
        "id": "gBqzJXGfHK3X"
      },
      "source": [
        "Point wise feed forward network consists of two fully-connected layers with a relu or selu activation in between."
      ]
    },
    {
      "cell_type": "code",
      "metadata": {
        "colab_type": "code",
        "id": "ET7xLt0yCT6Z",
        "colab": {}
      },
      "source": [
        "def point_wise_feed_forward_network(d_EncoderLayer, d_ffn):\n",
        "  return tf.keras.Sequential([\n",
        "      tf.keras.layers.Dense(d_ffn, activation=EncoderActivation),  # (batch_size, seq_len, d_ffn)\n",
        "      tf.keras.layers.Dense(d_EncoderLayer)  # (batch_size, seq_len, d_EncoderLayer)\n",
        "  ])"
      ],
      "execution_count": null,
      "outputs": []
    },
    {
      "cell_type": "code",
      "metadata": {
        "colab_type": "code",
        "id": "mytb1lPyOHLB",
        "colab": {}
      },
      "source": [
        "# Example of Point wise feed forward network\n",
        "sample_ffn = point_wise_feed_forward_network(512, 2048)\n",
        "sample_ffn(tf.random.uniform((64, 50, 512))).shape"
      ],
      "execution_count": null,
      "outputs": []
    },
    {
      "cell_type": "markdown",
      "metadata": {
        "colab_type": "text",
        "id": "7e7hKcxn6-zd"
      },
      "source": [
        "## **Encoder and decoder**"
      ]
    },
    {
      "cell_type": "markdown",
      "metadata": {
        "id": "eDs43KCW-t9k",
        "colab_type": "text"
      },
      "source": [
        "Note the process starts with an ***Encoder*** and finishes with a ***Decoder***. These share components like multi-headed attention. We expect to look at different Decoders for science as we want floating point numbers and not as in NLP, members of a vocabulary We expect that decoder could be similar for science and NLP as it is looking for structure and that is a set of relationships which could be similar between science and NLP. ."
      ]
    },
    {
      "cell_type": "markdown",
      "metadata": {
        "colab_type": "text",
        "id": "yScbC0MUH8dS"
      },
      "source": [
        "<img src=\"https://www.tensorflow.org/images/tutorials/transformer/transformer.png\" width=\"600\" alt=\"transformer\">"
      ]
    },
    {
      "cell_type": "markdown",
      "metadata": {
        "colab_type": "text",
        "id": "MfYJG-Kvgwy2"
      },
      "source": [
        "The transformer model follows the same general pattern as a standard [sequence to sequence with attention model](nmt_with_attention.ipynb). \n",
        "\n",
        "* The input sentence is passed through `N` encoder layers that generates an output for each word/token in the sequence.\n",
        "* The decoder attends on the encoder's output and its own input (self-attention) to predict the next word. "
      ]
    },
    {
      "cell_type": "markdown",
      "metadata": {
        "colab_type": "text",
        "id": "QFv-FNYUmvpn"
      },
      "source": [
        "### Encoder layer (Original and Science)\n",
        "\n",
        "Each encoder layer consists of sublayers:\n",
        "\n",
        "1.   Multi-head attention (with padding mask) \n",
        "2.    Point wise feed forward networks. \n",
        "\n",
        "Each of these sublayers has a residual connection around it followed by a layer normalization. Residual connections help in avoiding the vanishing gradient problem in deep networks.\n",
        "\n",
        "The output of each sublayer is `LayerNorm(x + Sublayer(x))`. The normalization is done on the `d_EncoderLayer` (last) axis. There are N = ***num_Encoderlayers*** encoder layers in the transformer.\n",
        "\n",
        "\n",
        "I am not clear why x and sublayer(x) (input and output, out1 + ffn_output) are added. I would have concatenated. I had a similar comment on positional encoding which is added to rather than being appended to input. For science the numbers matter -- its not just patterns!"
      ]
    },
    {
      "cell_type": "code",
      "metadata": {
        "colab_type": "code",
        "id": "ncyS-Ms3i2x_",
        "colab": {}
      },
      "source": [
        "class EncoderLayer(tf.keras.layers.Layer):\n",
        "  def __init__(self):\n",
        "    super(EncoderLayer, self).__init__()\n",
        "\n",
        "    self.mha = MultiHeadAttention()\n",
        "    self.ffn = point_wise_feed_forward_network(d_EncoderLayer, d_ffn)\n",
        "\n",
        "    self.layernorm1 = tf.keras.layers.LayerNormalization(epsilon=1e-6)\n",
        "    self.layernorm2 = tf.keras.layers.LayerNormalization(epsilon=1e-6)\n",
        "    \n",
        "    self.dropout1 = tf.keras.layers.Dropout(EncoderDropout)\n",
        "    self.dropout2 = tf.keras.layers.Dropout(EncoderDropout)\n",
        "    \n",
        "  def call(self, x, training, mask):\n",
        "\n",
        "# mha adjusts to shape[-1] of x being d_model or d_EncoderLayer\n",
        "    attn_output = self.mha(x, x, x, mask)  # (batch_size, input_seq_len, d_model)\n",
        "    attn_output = self.dropout1(attn_output, training=training)\n",
        "    if d_EncoderLayer == d_model:\n",
        "      addtogether = x + attn_output\n",
        "    else:\n",
        "      doublex = tf.concat([x,x], -1)\n",
        "      addtogether = doublex + attn_output \n",
        "    out1 = self.layernorm1(addtogether)  # (batch_size, input_seq_len, d_model)\n",
        "    \n",
        "    ffn_output = self.ffn(out1)  # (batch_size, input_seq_len, d_EncoderLayer)\n",
        "    ffn_output = self.dropout2(ffn_output, training=training)\n",
        "    out2 = self.layernorm2(out1 + ffn_output)  # (batch_size, input_seq_len, d_EncoderLayer)\n",
        "    \n",
        "    return out2"
      ],
      "execution_count": null,
      "outputs": []
    },
    {
      "cell_type": "code",
      "metadata": {
        "colab_type": "code",
        "id": "AzZRXdO0mI48",
        "colab": {}
      },
      "source": [
        "sample_encoder_layer = EncoderLayer(512, 8, 2048)\n",
        "\n",
        "sample_encoder_layer_output = sample_encoder_layer(\n",
        "    tf.random.uniform((64, 43, 512)), False, None)\n",
        "\n",
        "sample_encoder_layer_output.shape  # (batch_size, input_seq_len, d_model)"
      ],
      "execution_count": null,
      "outputs": []
    },
    {
      "cell_type": "markdown",
      "metadata": {
        "colab_type": "text",
        "id": "6LO_48Owmx_o"
      },
      "source": [
        "### Decoder layer (Original)\n",
        "**Currently we do not expect to use this in science but later we may return**\n",
        "\n",
        "Each decoder layer consists of sublayers:\n",
        "\n",
        "1.   Masked multi-head attention (with look ahead mask and padding mask)\n",
        "2.   Multi-head attention (with padding mask). V (value) and K (key) receive the *encoder output* as inputs. Q (query) receives the *output from the masked multi-head attention sublayer.*\n",
        "3.   Point wise feed forward networks\n",
        "\n",
        "Each of these sublayers has a residual connection around it followed by a layer normalization. The output of each sublayer is `LayerNorm(x + Sublayer(x))`. The normalization is done on the `d_model` (last) axis.\n",
        "\n",
        "There are N decoder layers in the transformer.\n",
        "\n",
        "As Q receives the output from decoder's first attention block, and K receives the encoder output, the attention weights represent the importance given to the decoder's input based on the encoder's output. In other words, the decoder predicts the next word by looking at the encoder output and self-attending to its own output. See the demonstration above in the scaled dot product attention section."
      ]
    },
    {
      "cell_type": "code",
      "metadata": {
        "colab_type": "code",
        "id": "9SoX0-vd1hue",
        "colab": {}
      },
      "source": [
        "class DecoderLayer(tf.keras.layers.Layer):\n",
        "  def __init__(self, d_model, num_heads, dff, rate=0.1):\n",
        "    super(DecoderLayer, self).__init__()\n",
        "\n",
        "    self.mha1 = MultiHeadAttention(d_model, num_heads)\n",
        "    self.mha2 = MultiHeadAttention(d_model, num_heads)\n",
        "\n",
        "    self.ffn = point_wise_feed_forward_network(d_model, dff)\n",
        " \n",
        "    self.layernorm1 = tf.keras.layers.LayerNormalization(epsilon=1e-6)\n",
        "    self.layernorm2 = tf.keras.layers.LayerNormalization(epsilon=1e-6)\n",
        "    self.layernorm3 = tf.keras.layers.LayerNormalization(epsilon=1e-6)\n",
        "    \n",
        "    self.dropout1 = tf.keras.layers.Dropout(rate)\n",
        "    self.dropout2 = tf.keras.layers.Dropout(rate)\n",
        "    self.dropout3 = tf.keras.layers.Dropout(rate)\n",
        "    \n",
        "    \n",
        "  def call(self, x, enc_output, training, \n",
        "           look_ahead_mask, padding_mask):\n",
        "    # enc_output.shape == (batch_size, input_seq_len, d_model)\n",
        "\n",
        "    attn1, attn_weights_block1 = self.mha1(x, x, x, look_ahead_mask)  # (batch_size, target_seq_len, d_model)\n",
        "    attn1 = self.dropout1(attn1, training=training)\n",
        "    out1 = self.layernorm1(attn1 + x)\n",
        "    \n",
        "    attn2, attn_weights_block2 = self.mha2(\n",
        "        enc_output, enc_output, out1, padding_mask)  # (batch_size, target_seq_len, d_model)\n",
        "    attn2 = self.dropout2(attn2, training=training)\n",
        "    out2 = self.layernorm2(attn2 + out1)  # (batch_size, target_seq_len, d_model)\n",
        "    \n",
        "    ffn_output = self.ffn(out2)  # (batch_size, target_seq_len, d_model)\n",
        "    ffn_output = self.dropout3(ffn_output, training=training)\n",
        "    out3 = self.layernorm3(ffn_output + out2)  # (batch_size, target_seq_len, d_model)\n",
        "    print(\"GCF6 \", np.shape(x), np.shape(out1), np.shape(out2), np.shape(out3))\n",
        "    return out3, attn_weights_block1, attn_weights_block2"
      ],
      "execution_count": null,
      "outputs": []
    },
    {
      "cell_type": "code",
      "metadata": {
        "colab_type": "code",
        "id": "Ne2Bqx8k71l0",
        "colab": {}
      },
      "source": [
        "sample_decoder_layer = DecoderLayer(512, 8, 2048)\n",
        "\n",
        "sample_decoder_layer_output, _, _ = sample_decoder_layer(\n",
        "    tf.random.uniform((64, 50, 512)), sample_encoder_layer_output, \n",
        "    False, None, None)\n",
        "\n",
        "sample_decoder_layer_output.shape  # (batch_size, target_seq_len, d_model)"
      ],
      "execution_count": null,
      "outputs": []
    },
    {
      "cell_type": "markdown",
      "metadata": {
        "colab_type": "text",
        "id": "SE1H51Ajm0q1"
      },
      "source": [
        "### Encoder\n",
        "\n",
        "The `Encoder` consists of:\n",
        "1.   Input Embedding\n",
        "2.   Positional Encoding\n",
        "3.   N encoder layers\n",
        "\n",
        "The input is put through an embedding which is summed with the positional encoding. The output of this summation is the input to the encoder layers. The output of the encoder is the input to the decoder."
      ]
    },
    {
      "cell_type": "markdown",
      "metadata": {
        "id": "u-rBfJg5-YJx",
        "colab_type": "text"
      },
      "source": [
        "### Encoder (Original)"
      ]
    },
    {
      "cell_type": "code",
      "metadata": {
        "colab_type": "code",
        "id": "jpEox7gJ8FCI",
        "colab": {}
      },
      "source": [
        "class Encoder(tf.keras.layers.Layer):\n",
        "  def __init__():\n",
        "    super(Encoder, self).__init__()\n",
        "    \n",
        "   # self.embedding = tf.keras.layers.Embedding(input_vocab_size, d_model)\n",
        "    self.dense_1 = tf.keras.layers.Dense(d_model, activation=Encoderactivation)\n",
        "    if UseTransformerInputTemporalEncoding:\n",
        "      self.pos_encoding = positional_encoding(Transformermaximum_position_encoding, d_model)\n",
        "    \n",
        "    self.enc_layers = [EncoderLayer() for _ in range(num_Encoderlayers)]\n",
        "    self.dropout = tf.keras.layers.Dropout(EncoderDropout)\n",
        "        \n",
        "  def call(self, x, training, mask):\n",
        "  \n",
        "  # adding embedding and position encoding.\n",
        "  # x = self.embedding(x)  # (batch_size, input_seq_len, d_model)\n",
        "  # x *= tf.math.sqrt(tf.cast(d_model, tf.float32))\n",
        "    x = self.dense_1(x)\n",
        "\n",
        "    if UseTransformerInputTemporalEncoding:\n",
        "      seq_len = tf.shape(x)[1]\n",
        "      x += self.pos_encoding[:, :seq_len, :]\n",
        "\n",
        "    x = self.dropout(x, training=training)\n",
        "    \n",
        "    for i in range(num_Encoderlayers):\n",
        "      x = self.enc_layers[i](x, training, mask)\n",
        "    \n",
        "    return x  # (batch_size, d_sample, d_EncoderLayer)\n",
        "\n"
      ],
      "execution_count": null,
      "outputs": []
    },
    {
      "cell_type": "code",
      "metadata": {
        "colab_type": "code",
        "id": "8QG9nueFQKXx",
        "colab": {}
      },
      "source": [
        "sample_encoder = Encoder(num_layers=2, d_model=512, num_heads=8, \n",
        "                         dff=2048, input_vocab_size=8500,\n",
        "                         maximum_position_encoding=10000)\n",
        "temp_input = tf.random.uniform((64, 62), dtype=tf.int64, minval=0, maxval=200)\n",
        "\n",
        "sample_encoder_output = sample_encoder(temp_input, training=False, mask=None)\n",
        "\n",
        "print (sample_encoder_output.shape)  # (batch_size, input_seq_len, d_model)\n"
      ],
      "execution_count": null,
      "outputs": []
    },
    {
      "cell_type": "markdown",
      "metadata": {
        "id": "K_OZW9HM_43X",
        "colab_type": "text"
      },
      "source": [
        "### Encoder for Science"
      ]
    },
    {
      "cell_type": "markdown",
      "metadata": {
        "id": "7XkLhZ1dAmXd",
        "colab_type": "text"
      },
      "source": [
        "The encoder for Science is very close to the NLP version\n",
        "Its output is TWO arrays\n",
        "* The result of self.embedding = tf.keras.layers.Embedding(input_vocab_size, d_model) before NLP position encoding applied\n",
        "* The same output of Encoder used in NLP\n",
        "\n",
        "Both are (***Transformerbatch_size***, ***d_sample***, ***d_model***)\n",
        "\n",
        "Note this is analogous to RESNET that adds input to output after several convolutional layers. We maybe incorrectly are concatenating not adding\n",
        "\n",
        "This interpreted as original embedded data which would have been fed into an LSTM in that model plus a second vector summarizing result of attention analysis -- a form of generalized history\n",
        "\n",
        "We will need to convert the ***d_sample*** index to two indices ***Tseq*** * size {[Num_Seq][Nloc]}\n",
        "\n",
        "We can run members of size {[Num_Seq][Nloc]} together in LSTM although this is not how it is done normally in pure LSTM. Alternatively we can run each sample member separately\n",
        "\n",
        "Note each member of sample has a separate encoder output"
      ]
    },
    {
      "cell_type": "markdown",
      "metadata": {
        "colab_type": "text",
        "id": "p-uO6ls8m2O5"
      },
      "source": [
        "### Decoder (Original)"
      ]
    },
    {
      "cell_type": "markdown",
      "metadata": {
        "colab_type": "text",
        "id": "ZtT7PKzrXkNr"
      },
      "source": [
        " The `Decoder` consists of:\n",
        "1.   Output Embedding\n",
        "2.   Positional Encoding\n",
        "3.   N decoder layers\n",
        "\n",
        "The target is put through an embedding which is summed with the positional encoding. The output of this summation is the input to the decoder layers. The output of the decoder is the input to the final linear layer."
      ]
    },
    {
      "cell_type": "code",
      "metadata": {
        "colab_type": "code",
        "id": "d5_d5-PLQXwY",
        "colab": {}
      },
      "source": [
        "class Decoder(tf.keras.layers.Layer):\n",
        "  def __init__(self, num_layers, d_model, num_heads, dff, target_vocab_size,\n",
        "               maximum_position_encoding, rate=0.1):\n",
        "    super(Decoder, self).__init__()\n",
        "\n",
        "    self.d_model = d_model\n",
        "    self.num_layers = num_layers\n",
        "    \n",
        "    self.embedding = tf.keras.layers.Embedding(target_vocab_size, d_model)\n",
        "    self.pos_encoding = positional_encoding(maximum_position_encoding, d_model)\n",
        "    \n",
        "    self.dec_layers = [DecoderLayer(d_model, num_heads, dff, rate) \n",
        "                       for _ in range(num_layers)]\n",
        "    self.dropout = tf.keras.layers.Dropout(rate)\n",
        "    \n",
        "  def call(self, x, enc_output, training, \n",
        "           look_ahead_mask, padding_mask):\n",
        "    print(\"GCF4 \", np.shape(x))\n",
        "    seq_len = tf.shape(x)[1]\n",
        "    attention_weights = {}\n",
        "    \n",
        "    x = self.embedding(x)  # (batch_size, target_seq_len, d_model)\n",
        "    x *= tf.math.sqrt(tf.cast(self.d_model, tf.float32))\n",
        "    x += self.pos_encoding[:, :seq_len, :]\n",
        "    print(\"GCF5 \", np.shape(x))\n",
        "    x = self.dropout(x, training=training)\n",
        "\n",
        "    for i in range(self.num_layers):\n",
        "      x, block1, block2 = self.dec_layers[i](x, enc_output, training,\n",
        "                                             look_ahead_mask, padding_mask)\n",
        "      \n",
        "      attention_weights['decoder_layer{}_block1'.format(i+1)] = block1\n",
        "      attention_weights['decoder_layer{}_block2'.format(i+1)] = block2\n",
        "    \n",
        "    # x.shape == (batch_size, target_seq_len, d_model)\n",
        "    return x, attention_weights"
      ],
      "execution_count": null,
      "outputs": []
    },
    {
      "cell_type": "code",
      "metadata": {
        "colab_type": "code",
        "id": "a1jXoAMRZyvu",
        "colab": {}
      },
      "source": [
        "sample_decoder = Decoder(num_layers=2, d_model=512, num_heads=8, \n",
        "                         dff=2048, target_vocab_size=8000,\n",
        "                         maximum_position_encoding=5000)\n",
        "temp_input = tf.random.uniform((64, 26), dtype=tf.int64, minval=0, maxval=200)\n",
        "\n",
        "output, attn = sample_decoder(temp_input, \n",
        "                              enc_output=sample_encoder_output, \n",
        "                              training=False,\n",
        "                              look_ahead_mask=None, \n",
        "                              padding_mask=None )\n",
        "output.shape, attn['decoder_layer2_block2'].shape"
      ],
      "execution_count": null,
      "outputs": []
    },
    {
      "cell_type": "markdown",
      "metadata": {
        "id": "uk2MABcvCkW4",
        "colab_type": "text"
      },
      "source": [
        "### Decoder for Science\n",
        "This is not like the NLP Decoder. Rather it will use the same two layer LSTM we have already tested extensively in COVID.\n",
        "\n",
        "There are two important changes\n",
        "1. In COVID the equivalent of ***d_sample*** held just ***Tseq*** entries -- a single window for one location. Now we feed in a window of length Tseq as in COVID but the input data is muliple cases of size {[Num_Seq][Nloc]}. As we expect to start with one  sequence per network input this is just the number of locations.\n",
        "2. For each presented case, we intend to use not ust the output of encoder but rather the concatenation of two vectors of length ***d_model***\n",
        "\n",
        "* The result of self.embedding = tf.keras.layers.Embedding(input_vocab_size, d_model) before NLP position encoding applied\n",
        "* The same output of Encoder used in NLP containing concatenated attention head results\n",
        "\n",
        "There are two possibilities to consider\n",
        "1. That described above with a single input to decoder of length 2 * ***d_model*** * ***d_sample/Tseq***\n",
        "2. ***d_sample/Tseq*** separate runs (in parallel or one after the other) each containing one case. This is safest\" approach as closely mimics that used in COVID\n",
        "\n",
        "Note this LSTM subsystem ends with a small FCN and so we don't need an additional linear layer"
      ]
    },
    {
      "cell_type": "code",
      "metadata": {
        "id": "_caU47Rpt3HI",
        "colab_type": "code",
        "colab": {}
      },
      "source": [
        "def EncodertoLSTMmerge(tf.keras.layers.Layer):\n",
        "  def __init__():\n",
        "    super(EncodertoLSTMmerge, self).__init__()\n",
        "    self.dense_merged = tf.keras.layers.Dense(d_merge, activation=Encoderactivation)\n",
        "\n",
        "def call(self, Originalinput, EncoderOutput):\n",
        "\n",
        "  Originalinput = tf.reshape(Originalinput, [Originalinput.shape[0], Nloc_sample, Tseq, NpropperseqTOT])\n",
        "  EncoderOutput = tf.reshape(EncoderOutput, [EncoderOutput.shape[0], Nloc_sample, Tseq, d_EncoderLayer])\n",
        "  Merged = tf.concat([Originalinput,EncoderOutput], -1)\n",
        "  Merged = self.dense_merged(Merged)\n",
        "\n",
        "  return Merged"
      ],
      "execution_count": null,
      "outputs": []
    },
    {
      "cell_type": "markdown",
      "metadata": {
        "id": "sWccxYzUqM7R",
        "colab_type": "text"
      },
      "source": [
        "# Transformer for Science"
      ]
    },
    {
      "cell_type": "code",
      "metadata": {
        "id": "5AbcpEQBtFxZ",
        "colab_type": "code",
        "colab": {}
      },
      "source": [
        "class MyScienceTransformermodel(tf.keras.Model):\n",
        "  def __init__(self, **kwargs):\n",
        "    super(MyScienceTransformermodel, self).__init__(**kwargs)\n",
        "\n",
        "\n",
        "    self.Scienceencoder = Encoder()\n",
        "    self.Sciencemerge = EncodertoLSTMmerge()\n",
        "    self.fullLSTM = MyLSTMlayer() # Identical to that used in standalone LSTM\n",
        "\n",
        "  def call(self, inputs):  \n",
        "    # Here input is  flattened over Nloc_sample and Tseq although this is exposed and then flattened in scaled_dot_product_attention\n",
        "    Encoderoutput = self.Scienceencoder(inputs, training =settraining, mask = None)\n",
        "\n",
        "    # Here we expose separate dimensions Nloc_sample and Tseq\n",
        "    compositeinputs = self.Sciencemerge(inputs,Encoderoutput)\n",
        "    outputs = self.fullLSTM(compositeinputs)\n",
        "    return outputs\n",
        "\n",
        "def RunScienceTransformer():\n",
        "# Run the Science Transformer model defined by Model and Encoder/LSTM classes\n",
        "# Assumes X_predict, y_predict\n",
        "\n",
        "  X_train, y_train = shuffleDLinput(X_predict, y_predict)\n",
        "  settraining = True\n",
        "  LSTMInitialMLP = 0\n",
        "  myScienceTransformermodel = MyScienceTransformermodel(name ='myScienceTransformermodel')\n",
        "  if CustomLoss == 0:\n",
        "      myScienceTransformermodel.compile(loss='mse', optimizer= Transformeroptimizer)\n",
        "  if CustomLoss == 1:\n",
        "      myScienceTransformermodel.compile(loss= custom_lossGCF1, optimizer= Transformeroptimizer)\n",
        "  if CustomLoss == 4:    \n",
        "      myScienceTransformermodel.compile(loss= custom_lossGCF4, optimizer= Transformeroptimizer)\n",
        "\n",
        "  the_callbacks = [TqdmCallback(),]\n",
        "\n",
        "  if UseClassweights:   \n",
        "      cw = {}\n",
        "      for i in range(0,NpredperseqTOT):\n",
        "        cw[i] = Predictionwgt[i]     \n",
        "      modelresult = myScienceTransformermodel.fit(X_train, y_train,\n",
        "            epochs=Transformerepochs,\n",
        "            batch_size=Transformerbatch_size,\n",
        "            class_weight = cw,\n",
        "            verbose=Transformerverbose,\n",
        "            validation_split=Transformervalidationfrac,\n",
        "            callbacks=the_callbacks\n",
        "            )\n",
        "  else:\n",
        "      modelresult = myScienceTransformermodel.fit(X_train, y_train,\n",
        "            epochs=Transformerepochs,\n",
        "            batch_size=Transformerbatch_size,\n",
        "            verbose=Transformerverbose,\n",
        "            validation_split=Transformervalidationfrac,\n",
        "            callbacks=the_callbacks\n",
        "            ) \n",
        "  myScienceTransformermodel.summary()\n",
        "  settraining = False\n",
        "  finalizeDL(myScienceTransformermodel,modelresult)\n",
        "  return\n",
        "\n",
        "# Finally we can run the Science Transformer\n",
        "LaunchScienceTransformer = True\n",
        "if LaunchScienceTransformer:\n",
        "  RunScienceTransformer()"
      ],
      "execution_count": null,
      "outputs": []
    },
    {
      "cell_type": "markdown",
      "metadata": {
        "colab_type": "text",
        "id": "y54xnJnuYgJ7"
      },
      "source": [
        "# Create the Original Transformer "
      ]
    },
    {
      "cell_type": "markdown",
      "metadata": {
        "colab_type": "text",
        "id": "uERO1y54cOKq"
      },
      "source": [
        "Transformer consists of the encoder, decoder and a final linear layer. The output of the decoder is the input to the linear layer and its output is returned.\n",
        "\n",
        "(Original Only. No further material used for Science Transformer)"
      ]
    },
    {
      "cell_type": "code",
      "metadata": {
        "id": "HPnWIvpzo7Ie",
        "colab_type": "code",
        "colab": {}
      },
      "source": [
        "sys.exit('Rest is Old')"
      ],
      "execution_count": null,
      "outputs": []
    },
    {
      "cell_type": "code",
      "metadata": {
        "colab_type": "code",
        "id": "PED3bIpOYkBu",
        "colab": {}
      },
      "source": [
        "class Transformer(tf.keras.Model):\n",
        "  def __init__(self, num_layers, d_model, num_heads, dff, input_vocab_size, \n",
        "               target_vocab_size, pe_input, pe_target, rate=0.1):\n",
        "    super(Transformer, self).__init__()\n",
        "\n",
        "    self.encoder = Encoder(num_layers, d_model, num_heads, dff, \n",
        "                           input_vocab_size, pe_input, rate)\n",
        "    self.decoder = Decoder(num_layers, d_model, num_heads, dff, \n",
        "                           target_vocab_size, pe_target, rate)\n",
        "\n",
        "    self.final_layer = tf.keras.layers.Dense(target_vocab_size)\n",
        "    \n",
        "  def call(self, inp, tar, training, enc_padding_mask, \n",
        "           look_ahead_mask, dec_padding_mask):\n",
        "\n",
        "    enc_output = self.encoder(inp, training, enc_padding_mask)  # (batch_size, inp_seq_len, d_model)\n",
        "\n",
        "    # dec_output.shape == (batch_size, tar_seq_len, d_model)\n",
        "    dec_output, attention_weights = self.decoder(\n",
        "        tar, enc_output, training, look_ahead_mask, dec_padding_mask)\n",
        "    print(\"GCF3 ENC OUT\", np.shape(enc_output), \" MASKS \", np.shape(look_ahead_mask),  np.shape(dec_padding_mask), \" DEC OUT \", np.shape(dec_output))\n",
        "    final_output = self.final_layer(dec_output)  # (batch_size, tar_seq_len, target_vocab_size)\n",
        "    \n",
        "    return final_output, attention_weights"
      ],
      "execution_count": null,
      "outputs": []
    },
    {
      "cell_type": "code",
      "metadata": {
        "colab_type": "code",
        "id": "tJ4fbQcIkHW1",
        "colab": {}
      },
      "source": [
        "sample_transformer = Transformer(\n",
        "    num_layers=2, d_model=512, num_heads=8, dff=2048, \n",
        "    input_vocab_size=8500, target_vocab_size=8000, \n",
        "    pe_input=10000, pe_target=6000)\n",
        "\n",
        "temp_input = tf.random.uniform((64, 38), dtype=tf.int64, minval=0, maxval=200)\n",
        "temp_target = tf.random.uniform((64, 36), dtype=tf.int64, minval=0, maxval=200)\n",
        "\n",
        "fn_out, _ = sample_transformer(temp_input, temp_target, training=False, \n",
        "                               enc_padding_mask=None, \n",
        "                               look_ahead_mask=None,\n",
        "                               dec_padding_mask=None)\n",
        "\n",
        "fn_out.shape  # (batch_size, tar_seq_len, target_vocab_size)\n",
        "sample_transformer.summary()"
      ],
      "execution_count": null,
      "outputs": []
    },
    {
      "cell_type": "markdown",
      "metadata": {
        "colab_type": "text",
        "id": "wsINyf1VEQLC"
      },
      "source": [
        "## Set hyperparameters"
      ]
    },
    {
      "cell_type": "markdown",
      "metadata": {
        "colab_type": "text",
        "id": "zVjWCxFNcgbt"
      },
      "source": [
        "To keep this example small and relatively fast, the values for *num_layers, d_model, and dff* have been reduced. \n",
        "\n",
        "The values used in the base model of transformer were; *num_layers=6*, *d_model = 512*, *dff = 2048*. See the [paper](https://arxiv.org/abs/1706.03762) for all the other versions of the transformer.\n",
        "\n",
        "Note: By changing the values below, you can get the model that achieved state of the art on many tasks."
      ]
    },
    {
      "cell_type": "code",
      "metadata": {
        "colab_type": "code",
        "id": "lnJn5SLA2ahP",
        "colab": {}
      },
      "source": [
        "num_layers = 4\n",
        "d_model = 128\n",
        "dff = 512\n",
        "num_heads = 8\n",
        "\n",
        "input_vocab_size = tokenizer_pt.vocab_size + 2\n",
        "target_vocab_size = tokenizer_en.vocab_size + 2\n",
        "dropout_rate = 0.1"
      ],
      "execution_count": null,
      "outputs": []
    },
    {
      "cell_type": "markdown",
      "metadata": {
        "colab_type": "text",
        "id": "xYEGhEOtzn5W"
      },
      "source": [
        "## Optimizer"
      ]
    },
    {
      "cell_type": "markdown",
      "metadata": {
        "colab_type": "text",
        "id": "GOmWW--yP3zx"
      },
      "source": [
        "Use the Adam optimizer with a custom learning rate scheduler according to the formula in the [paper](https://arxiv.org/abs/1706.03762).\n",
        "\n",
        "$$\\Large{lrate = d_{model}^{-0.5} * min(step{\\_}num^{-0.5}, step{\\_}num * warmup{\\_}steps^{-1.5})}$$\n"
      ]
    },
    {
      "cell_type": "code",
      "metadata": {
        "colab_type": "code",
        "id": "iYQdOO1axwEI",
        "colab": {}
      },
      "source": [
        "class CustomSchedule(tf.keras.optimizers.schedules.LearningRateSchedule):\n",
        "  def __init__(self, d_model, warmup_steps=4000):\n",
        "    super(CustomSchedule, self).__init__()\n",
        "    \n",
        "    self.d_model = d_model\n",
        "    self.d_model = tf.cast(self.d_model, tf.float32)\n",
        "\n",
        "    self.warmup_steps = warmup_steps\n",
        "    \n",
        "  def __call__(self, step):\n",
        "    arg1 = tf.math.rsqrt(step)\n",
        "    arg2 = step * (self.warmup_steps ** -1.5)\n",
        "    \n",
        "    return tf.math.rsqrt(self.d_model) * tf.math.minimum(arg1, arg2)"
      ],
      "execution_count": null,
      "outputs": []
    },
    {
      "cell_type": "code",
      "metadata": {
        "colab_type": "code",
        "id": "7r4scdulztRx",
        "colab": {}
      },
      "source": [
        "learning_rate = CustomSchedule(d_model)\n",
        "\n",
        "optimizer = tf.keras.optimizers.Adam(learning_rate, beta_1=0.9, beta_2=0.98, \n",
        "                                     epsilon=1e-9)"
      ],
      "execution_count": null,
      "outputs": []
    },
    {
      "cell_type": "code",
      "metadata": {
        "colab_type": "code",
        "id": "f33ZCgvHpPdG",
        "colab": {}
      },
      "source": [
        "temp_learning_rate_schedule = CustomSchedule(d_model)\n",
        "\n",
        "plt.plot(temp_learning_rate_schedule(tf.range(40000, dtype=tf.float32)))\n",
        "plt.ylabel(\"Learning Rate\")\n",
        "plt.xlabel(\"Train Step\")"
      ],
      "execution_count": null,
      "outputs": []
    },
    {
      "cell_type": "markdown",
      "metadata": {
        "colab_type": "text",
        "id": "YgkDE7hzo8r5"
      },
      "source": [
        "## Loss and metrics"
      ]
    },
    {
      "cell_type": "markdown",
      "metadata": {
        "colab_type": "text",
        "id": "oxGJtoDuYIHL"
      },
      "source": [
        "Since the target sequences are padded, it is important to apply a padding mask when calculating the loss."
      ]
    },
    {
      "cell_type": "code",
      "metadata": {
        "colab_type": "code",
        "id": "MlhsJMm0TW_B",
        "colab": {}
      },
      "source": [
        "loss_object = tf.keras.losses.SparseCategoricalCrossentropy(\n",
        "    from_logits=True, reduction='none')"
      ],
      "execution_count": null,
      "outputs": []
    },
    {
      "cell_type": "code",
      "metadata": {
        "colab_type": "code",
        "id": "67oqVHiT0Eiu",
        "colab": {}
      },
      "source": [
        "def loss_function(real, pred):\n",
        "  mask = tf.math.logical_not(tf.math.equal(real, 0))\n",
        "  loss_ = loss_object(real, pred)\n",
        "\n",
        "  mask = tf.cast(mask, dtype=loss_.dtype)\n",
        "  loss_ *= mask\n",
        "  \n",
        "  return tf.reduce_sum(loss_)/tf.reduce_sum(mask)"
      ],
      "execution_count": null,
      "outputs": []
    },
    {
      "cell_type": "code",
      "metadata": {
        "colab_type": "code",
        "id": "phlyxMnm-Tpx",
        "colab": {}
      },
      "source": [
        "train_loss = tf.keras.metrics.Mean(name='train_loss')\n",
        "train_accuracy = tf.keras.metrics.SparseCategoricalAccuracy(\n",
        "    name='train_accuracy')"
      ],
      "execution_count": null,
      "outputs": []
    },
    {
      "cell_type": "markdown",
      "metadata": {
        "colab_type": "text",
        "id": "aeHumfr7zmMa"
      },
      "source": [
        "## Training and checkpointing"
      ]
    },
    {
      "cell_type": "code",
      "metadata": {
        "colab_type": "code",
        "id": "UiysUa--4tOU",
        "colab": {}
      },
      "source": [
        "transformer = Transformer(num_layers, d_model, num_heads, dff,\n",
        "                          input_vocab_size, target_vocab_size, \n",
        "                          pe_input=input_vocab_size, \n",
        "                          pe_target=target_vocab_size,\n",
        "                          rate=dropout_rate)"
      ],
      "execution_count": null,
      "outputs": []
    },
    {
      "cell_type": "code",
      "metadata": {
        "colab_type": "code",
        "id": "ZOJUSB1T8GjM",
        "colab": {}
      },
      "source": [
        "def create_masks(inp, tar):\n",
        "  # Encoder padding mask\n",
        "  enc_padding_mask = create_padding_mask(inp)\n",
        "  \n",
        "  # Used in the 2nd attention block in the decoder.\n",
        "  # This padding mask is used to mask the encoder outputs.\n",
        "  dec_padding_mask = create_padding_mask(inp)\n",
        "  \n",
        "  # Used in the 1st attention block in the decoder.\n",
        "  # It is used to pad and mask future tokens in the input received by \n",
        "  # the decoder.\n",
        "  look_ahead_mask = create_look_ahead_mask(tf.shape(tar)[1])\n",
        "  dec_target_padding_mask = create_padding_mask(tar)\n",
        "  combined_mask = tf.maximum(dec_target_padding_mask, look_ahead_mask)\n",
        "  \n",
        "  return enc_padding_mask, combined_mask, dec_padding_mask"
      ],
      "execution_count": null,
      "outputs": []
    },
    {
      "cell_type": "markdown",
      "metadata": {
        "colab_type": "text",
        "id": "Fzuf06YZp66w"
      },
      "source": [
        "Create the checkpoint path and the checkpoint manager. This will be used to save checkpoints every `n` epochs."
      ]
    },
    {
      "cell_type": "code",
      "metadata": {
        "colab_type": "code",
        "id": "hNhuYfllndLZ",
        "colab": {}
      },
      "source": [
        "checkpoint_path = \"./checkpoints/train\"\n",
        "\n",
        "ckpt = tf.train.Checkpoint(transformer=transformer,\n",
        "                           optimizer=optimizer)\n",
        "\n",
        "ckpt_manager = tf.train.CheckpointManager(ckpt, checkpoint_path, max_to_keep=5)\n",
        "\n",
        "# if a checkpoint exists, restore the latest checkpoint.\n",
        "if ckpt_manager.latest_checkpoint:\n",
        "  ckpt.restore(ckpt_manager.latest_checkpoint)\n",
        "  print ('Latest checkpoint restored!!')"
      ],
      "execution_count": null,
      "outputs": []
    },
    {
      "cell_type": "markdown",
      "metadata": {
        "colab_type": "text",
        "id": "0Di_Yaa1gf9r"
      },
      "source": [
        "The target is divided into tar_inp and tar_real. tar_inp is passed as an input to the decoder. `tar_real` is that same input shifted by 1: At each location in `tar_input`, `tar_real` contains the  next token that should be predicted.\n",
        "\n",
        "For example, `sentence` = \"SOS A lion in the jungle is sleeping EOS\"\n",
        "\n",
        "`tar_inp` =  \"SOS A lion in the jungle is sleeping\"\n",
        "\n",
        "`tar_real` = \"A lion in the jungle is sleeping EOS\"\n",
        "\n",
        "The transformer is an auto-regressive model: it makes predictions one part at a time, and uses its output so far to decide what to do next. \n",
        "\n",
        "During training this example uses teacher-forcing (like in the [text generation tutorial](./text_generation.ipynb)). Teacher forcing is passing the true output to the next time step regardless of what the model predicts at the current time step.\n",
        "\n",
        "As the transformer predicts each word, *self-attention* allows it to look at the previous words in the input sequence to better predict the next word.\n",
        "\n",
        "To prevent the model from peeking at the expected output the model uses a look-ahead mask."
      ]
    },
    {
      "cell_type": "code",
      "metadata": {
        "colab_type": "code",
        "id": "LKpoA6q1sJFj",
        "colab": {}
      },
      "source": [
        "EPOCHS = 20"
      ],
      "execution_count": null,
      "outputs": []
    },
    {
      "cell_type": "code",
      "metadata": {
        "colab_type": "code",
        "id": "iJwmp9OE29oj",
        "colab": {}
      },
      "source": [
        "# The @tf.function trace-compiles train_step into a TF graph for faster\n",
        "# execution. The function specializes to the precise shape of the argument\n",
        "# tensors. To avoid re-tracing due to the variable sequence lengths or variable\n",
        "# batch sizes (the last batch is smaller), use input_signature to specify\n",
        "# more generic shapes.\n",
        "\n",
        "train_step_signature = [\n",
        "    tf.TensorSpec(shape=(None, None), dtype=tf.int64),\n",
        "    tf.TensorSpec(shape=(None, None), dtype=tf.int64),\n",
        "]\n",
        "\n",
        "@tf.function(input_signature=train_step_signature)\n",
        "def train_step(inp, tar):\n",
        "  tar_inp = tar[:, :-1]\n",
        "  tar_real = tar[:, 1:]\n",
        "  \n",
        "  enc_padding_mask, combined_mask, dec_padding_mask = create_masks(inp, tar_inp)\n",
        "  \n",
        "  with tf.GradientTape() as tape:\n",
        "    predictions, _ = transformer(inp, tar_inp, \n",
        "                                 True, \n",
        "                                 enc_padding_mask, \n",
        "                                 combined_mask, \n",
        "                                 dec_padding_mask)\n",
        "    loss = loss_function(tar_real, predictions)\n",
        "\n",
        "  gradients = tape.gradient(loss, transformer.trainable_variables)    \n",
        "  optimizer.apply_gradients(zip(gradients, transformer.trainable_variables))\n",
        "  \n",
        "  train_loss(loss)\n",
        "  train_accuracy(tar_real, predictions)"
      ],
      "execution_count": null,
      "outputs": []
    },
    {
      "cell_type": "markdown",
      "metadata": {
        "colab_type": "text",
        "id": "qM2PDWGDJ_8V"
      },
      "source": [
        "Portuguese is used as the input language and English is the target language."
      ]
    },
    {
      "cell_type": "code",
      "metadata": {
        "colab_type": "code",
        "id": "bbvmaKNiznHZ",
        "colab": {}
      },
      "source": [
        "for epoch in range(EPOCHS):\n",
        "  start = time.time()\n",
        "  \n",
        "  train_loss.reset_states()\n",
        "  train_accuracy.reset_states()\n",
        "  \n",
        "  # inp -> portuguese, tar -> english\n",
        "  for (batch, (inp, tar)) in enumerate(train_dataset):\n",
        "    train_step(inp, tar)\n",
        "    \n",
        "    if batch % 50 == 0:\n",
        "      print ('Epoch {} Batch {} Loss {:.4f} Accuracy {:.4f}'.format(\n",
        "          epoch + 1, batch, train_loss.result(), train_accuracy.result()))\n",
        "      \n",
        "  if (epoch + 1) % 5 == 0:\n",
        "    ckpt_save_path = ckpt_manager.save()\n",
        "    print ('Saving checkpoint for epoch {} at {}'.format(epoch+1,\n",
        "                                                         ckpt_save_path))\n",
        "    \n",
        "  print ('Epoch {} Loss {:.4f} Accuracy {:.4f}'.format(epoch + 1, \n",
        "                                                train_loss.result(), \n",
        "                                                train_accuracy.result()))\n",
        "\n",
        "  print ('Time taken for 1 epoch: {} secs\\n'.format(time.time() - start))"
      ],
      "execution_count": null,
      "outputs": []
    },
    {
      "cell_type": "markdown",
      "metadata": {
        "colab_type": "text",
        "id": "QfcsSWswSdGV"
      },
      "source": [
        "## Evaluate"
      ]
    },
    {
      "cell_type": "markdown",
      "metadata": {
        "colab_type": "text",
        "id": "y6APsFrgImLW"
      },
      "source": [
        "The following steps are used for evaluation:\n",
        "\n",
        "* Encode the input sentence using the Portuguese tokenizer (`tokenizer_pt`). Moreover, add the start and end token so the input is equivalent to what the model is trained with. This is the encoder input.\n",
        "* The decoder input is the `start token == tokenizer_en.vocab_size`.\n",
        "* Calculate the padding masks and the look ahead masks.\n",
        "* The `decoder` then outputs the predictions by looking at the `encoder output` and its own output (self-attention).\n",
        "* Select the last word and calculate the argmax of that.\n",
        "* Concatentate the predicted word to the decoder input as pass it to the decoder.\n",
        "* In this approach, the decoder predicts the next word based on the previous words it predicted.\n",
        "\n",
        "Note: The model used here has less capacity to keep the example relatively faster so the predictions maybe less right. To reproduce the results in the paper, use the entire dataset and base transformer model or transformer XL, by changing the hyperparameters above."
      ]
    },
    {
      "cell_type": "code",
      "metadata": {
        "colab_type": "code",
        "id": "5buvMlnvyrFm",
        "colab": {}
      },
      "source": [
        "def evaluate(inp_sentence):\n",
        "  start_token = [tokenizer_pt.vocab_size]\n",
        "  end_token = [tokenizer_pt.vocab_size + 1]\n",
        "  \n",
        "  # inp sentence is portuguese, hence adding the start and end token\n",
        "  inp_sentence = start_token + tokenizer_pt.encode(inp_sentence) + end_token\n",
        "  encoder_input = tf.expand_dims(inp_sentence, 0)\n",
        "  \n",
        "  # as the target is english, the first word to the transformer should be the\n",
        "  # english start token.\n",
        "  decoder_input = [tokenizer_en.vocab_size]\n",
        "  output = tf.expand_dims(decoder_input, 0)\n",
        "    \n",
        "  for i in range(MAX_LENGTH):\n",
        "    enc_padding_mask, combined_mask, dec_padding_mask = create_masks(\n",
        "        encoder_input, output)\n",
        "  \n",
        "    # predictions.shape == (batch_size, seq_len, vocab_size)\n",
        "    predictions, attention_weights = transformer(encoder_input, \n",
        "                                                 output,\n",
        "                                                 False,\n",
        "                                                 enc_padding_mask,\n",
        "                                                 combined_mask,\n",
        "                                                 dec_padding_mask)\n",
        "    \n",
        "    # select the last word from the seq_len dimension\n",
        "    predictions = predictions[: ,-1:, :]  # (batch_size, 1, vocab_size)\n",
        "\n",
        "    predicted_id = tf.cast(tf.argmax(predictions, axis=-1), tf.int32)\n",
        "    \n",
        "    # return the result if the predicted_id is equal to the end token\n",
        "    if predicted_id == tokenizer_en.vocab_size+1:\n",
        "      return tf.squeeze(output, axis=0), attention_weights\n",
        "    \n",
        "    # concatentate the predicted_id to the output which is given to the decoder\n",
        "    # as its input.\n",
        "    output = tf.concat([output, predicted_id], axis=-1)\n",
        "\n",
        "  return tf.squeeze(output, axis=0), attention_weights"
      ],
      "execution_count": null,
      "outputs": []
    },
    {
      "cell_type": "code",
      "metadata": {
        "colab_type": "code",
        "id": "CN-BV43FMBej",
        "colab": {}
      },
      "source": [
        "def plot_attention_weights(attention, sentence, result, layer):\n",
        "  fig = plt.figure(figsize=(16, 8))\n",
        "  \n",
        "  sentence = tokenizer_pt.encode(sentence)\n",
        "  \n",
        "  attention = tf.squeeze(attention[layer], axis=0)\n",
        "  \n",
        "  for head in range(attention.shape[0]):\n",
        "    ax = fig.add_subplot(2, 4, head+1)\n",
        "    \n",
        "    # plot the attention weights\n",
        "    ax.matshow(attention[head][:-1, :], cmap='viridis')\n",
        "\n",
        "    fontdict = {'fontsize': 10}\n",
        "    \n",
        "    ax.set_xticks(range(len(sentence)+2))\n",
        "    ax.set_yticks(range(len(result)))\n",
        "    \n",
        "    ax.set_ylim(len(result)-1.5, -0.5)\n",
        "        \n",
        "    ax.set_xticklabels(\n",
        "        ['<start>']+[tokenizer_pt.decode([i]) for i in sentence]+['<end>'], \n",
        "        fontdict=fontdict, rotation=90)\n",
        "    \n",
        "    ax.set_yticklabels([tokenizer_en.decode([i]) for i in result \n",
        "                        if i < tokenizer_en.vocab_size], \n",
        "                       fontdict=fontdict)\n",
        "    \n",
        "    ax.set_xlabel('Head {}'.format(head+1))\n",
        "  \n",
        "  plt.tight_layout()\n",
        "  plt.show()"
      ],
      "execution_count": null,
      "outputs": []
    },
    {
      "cell_type": "code",
      "metadata": {
        "colab_type": "code",
        "id": "lU2_yG_vBGza",
        "colab": {}
      },
      "source": [
        "def translate(sentence, plot=''):\n",
        "  result, attention_weights = evaluate(sentence)\n",
        "  \n",
        "  predicted_sentence = tokenizer_en.decode([i for i in result \n",
        "                                            if i < tokenizer_en.vocab_size])  \n",
        "\n",
        "  print('Input: {}'.format(sentence))\n",
        "  print('Predicted translation: {}'.format(predicted_sentence))\n",
        "  \n",
        "  if plot:\n",
        "    plot_attention_weights(attention_weights, sentence, result, plot)"
      ],
      "execution_count": null,
      "outputs": []
    }
  ]
}